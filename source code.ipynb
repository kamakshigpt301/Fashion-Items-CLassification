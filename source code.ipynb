{
  "nbformat": 4,
  "nbformat_minor": 0,
  "metadata": {
    "colab": {
      "name": "Untitled0.ipynb",
      "provenance": [],
      "collapsed_sections": []
    },
    "kernelspec": {
      "name": "python3",
      "display_name": "Python 3"
    }
  },
  "cells": [
    {
      "cell_type": "markdown",
      "metadata": {
        "id": "tz4ZcbKfBOah",
        "colab_type": "text"
      },
      "source": [
        "<h1>Loading dataset - Fashion MNIST</h1>\n",
        "\n",
        "No. of examples in train data: 60000\n",
        "\n",
        "No. of expamles in test data: 10000\n",
        "\n",
        "Each Image size: 28x28 (so we have, 784 pixel values) (Gray Scale Images)\n",
        "\n",
        "No. of target classes: 10\n",
        "\n",
        "| Label | Description |\n",
        "| --- | --- |\n",
        "| 0 | T-shirt/top |\n",
        "| 1 | Trouser |\n",
        "| 2 | Pullover |\n",
        "| 3 | Dress |\n",
        "| 4 | Coat |\n",
        "| 5 | Sandal |\n",
        "| 6 | Shirt |\n",
        "| 7 | Sneaker |\n",
        "| 8 | Bag |\n",
        "| 9 | Ankle boot |\n",
        "\n",
        "\n"
      ]
    },
    {
      "cell_type": "markdown",
      "metadata": {
        "id": "2FK8s4_vCx5R",
        "colab_type": "text"
      },
      "source": [
        "Our dataset is in .csv format\n",
        "\n",
        "We have (60,000 rows + 10,000 rows) and 785 columns.\n",
        "Here, Rows correspond to the examples and Columns correspond to pixel values and label.\n",
        "We have 1 column for label and 784 columns for pixel values.\n",
        "\n",
        "Each image is mapped to a single label. Since the class names are not included with the dataset, store them here to use later when plotting the images:\n",
        "So load the actual class names in a list which we will use later.\n"
      ]
    },
    {
      "cell_type": "code",
      "metadata": {
        "id": "vJlFoVxjC6sX",
        "colab_type": "code",
        "colab": {}
      },
      "source": [
        "class_names = ['T-shirt/top', 'Trouser', 'Pullover', 'Dress', 'Coat',\n",
        "               'Sandal', 'Shirt', 'Sneaker', 'Bag', 'Ankle boot']"
      ],
      "execution_count": 1,
      "outputs": []
    },
    {
      "cell_type": "code",
      "metadata": {
        "id": "nCzWQsndXb_j",
        "colab_type": "code",
        "colab": {}
      },
      "source": [
        "import matplotlib\n",
        "import pandas as pd \n",
        "import numpy as np\n",
        "import time\n",
        "import warnings\n",
        "warnings.filterwarnings(\"ignore\")\n",
        "from collections import Counter\n",
        "import matplotlib.pyplot as plt\n",
        "from sklearn import preprocessing\n",
        "from sklearn import metrics\n",
        "from sklearn.decomposition import PCA\n",
        "from sklearn.svm import SVC\n",
        "from xgboost import XGBClassifier\n",
        "from sklearn.linear_model import LogisticRegression\n",
        "from sklearn.tree import DecisionTreeClassifier\n",
        "from sklearn.ensemble import RandomForestClassifier\n",
        "from sklearn.ensemble import VotingClassifier\n",
        "from sklearn.model_selection import KFold\n",
        "from sklearn.metrics import confusion_matrix\n",
        "from sklearn.metrics import accuracy_score\n",
        "from sklearn.metrics import precision_score, recall_score\n",
        "from sklearn.metrics import f1_score\n",
        "from sklearn.model_selection import cross_val_score\n",
        "from sklearn.model_selection import cross_val_predict"
      ],
      "execution_count": 3,
      "outputs": []
    },
    {
      "cell_type": "markdown",
      "metadata": {
        "id": "0zydaGe7Dj6G",
        "colab_type": "text"
      },
      "source": [
        "We have two files one for train data and other for test data.\n",
        "\n",
        "The train data contains 60,000 examples and the test data contains 10,000 examples.\n",
        "\n",
        "You can load the dataset using pandas.read_csv(PATH_TO_THE_FILE)"
      ]
    },
    {
      "cell_type": "code",
      "metadata": {
        "id": "zaslQ9wcXjzb",
        "colab_type": "code",
        "colab": {}
      },
      "source": [
        "train_data = pd.read_csv(\"/content/drive/My Drive/fashion-mnist_train.csv\",delimiter=\",\")\n",
        "test_data = pd.read_csv(\"/content/drive/My Drive/fashion-mnist_test.csv\",delimiter=\",\")"
      ],
      "execution_count": 4,
      "outputs": []
    },
    {
      "cell_type": "markdown",
      "metadata": {
        "id": "jVW9pzkVIZdG",
        "colab_type": "text"
      },
      "source": [
        "# Explore the data"
      ]
    },
    {
      "cell_type": "markdown",
      "metadata": {
        "id": "299P5oZWSI4N",
        "colab_type": "text"
      },
      "source": [
        "Let's explore the format of the dataset before training the model."
      ]
    },
    {
      "cell_type": "markdown",
      "metadata": {
        "id": "9qMhnojN_f_H",
        "colab_type": "text"
      },
      "source": [
        "First let's see the shape of our train_data and test_data."
      ]
    },
    {
      "cell_type": "code",
      "metadata": {
        "id": "RWBmI6ck_Kce",
        "colab_type": "code",
        "colab": {
          "base_uri": "https://localhost:8080/",
          "height": 34
        },
        "outputId": "7747b9d1-2637-4385-ee10-f03698d3dff3"
      },
      "source": [
        "train_data.shape"
      ],
      "execution_count": null,
      "outputs": [
        {
          "output_type": "execute_result",
          "data": {
            "text/plain": [
              "(60000, 785)"
            ]
          },
          "metadata": {
            "tags": []
          },
          "execution_count": 4
        }
      ]
    },
    {
      "cell_type": "code",
      "metadata": {
        "id": "UdNWJkOc_nfg",
        "colab_type": "code",
        "colab": {
          "base_uri": "https://localhost:8080/",
          "height": 34
        },
        "outputId": "bce7c729-4b05-4a38-81d5-a161f270f04f"
      },
      "source": [
        "test_data.shape"
      ],
      "execution_count": null,
      "outputs": [
        {
          "output_type": "execute_result",
          "data": {
            "text/plain": [
              "(10000, 785)"
            ]
          },
          "metadata": {
            "tags": []
          },
          "execution_count": 5
        }
      ]
    },
    {
      "cell_type": "markdown",
      "metadata": {
        "id": "rH3gHTs0RK91",
        "colab_type": "text"
      },
      "source": [
        "Now we can have a look at the staring rows by using head() method of our train_data and test_data dataframes.\n"
      ]
    },
    {
      "cell_type": "code",
      "metadata": {
        "id": "Irqu7vOWRF9K",
        "colab_type": "code",
        "colab": {
          "base_uri": "https://localhost:8080/",
          "height": 244
        },
        "outputId": "14f1e960-fb8e-4188-d348-1eed87d1480f"
      },
      "source": [
        "train_data.head()"
      ],
      "execution_count": null,
      "outputs": [
        {
          "output_type": "execute_result",
          "data": {
            "text/html": [
              "<div>\n",
              "<style scoped>\n",
              "    .dataframe tbody tr th:only-of-type {\n",
              "        vertical-align: middle;\n",
              "    }\n",
              "\n",
              "    .dataframe tbody tr th {\n",
              "        vertical-align: top;\n",
              "    }\n",
              "\n",
              "    .dataframe thead th {\n",
              "        text-align: right;\n",
              "    }\n",
              "</style>\n",
              "<table border=\"1\" class=\"dataframe\">\n",
              "  <thead>\n",
              "    <tr style=\"text-align: right;\">\n",
              "      <th></th>\n",
              "      <th>label</th>\n",
              "      <th>pixel1</th>\n",
              "      <th>pixel2</th>\n",
              "      <th>pixel3</th>\n",
              "      <th>pixel4</th>\n",
              "      <th>pixel5</th>\n",
              "      <th>pixel6</th>\n",
              "      <th>pixel7</th>\n",
              "      <th>pixel8</th>\n",
              "      <th>pixel9</th>\n",
              "      <th>pixel10</th>\n",
              "      <th>pixel11</th>\n",
              "      <th>pixel12</th>\n",
              "      <th>pixel13</th>\n",
              "      <th>pixel14</th>\n",
              "      <th>pixel15</th>\n",
              "      <th>pixel16</th>\n",
              "      <th>pixel17</th>\n",
              "      <th>pixel18</th>\n",
              "      <th>pixel19</th>\n",
              "      <th>pixel20</th>\n",
              "      <th>pixel21</th>\n",
              "      <th>pixel22</th>\n",
              "      <th>pixel23</th>\n",
              "      <th>pixel24</th>\n",
              "      <th>pixel25</th>\n",
              "      <th>pixel26</th>\n",
              "      <th>pixel27</th>\n",
              "      <th>pixel28</th>\n",
              "      <th>pixel29</th>\n",
              "      <th>pixel30</th>\n",
              "      <th>pixel31</th>\n",
              "      <th>pixel32</th>\n",
              "      <th>pixel33</th>\n",
              "      <th>pixel34</th>\n",
              "      <th>pixel35</th>\n",
              "      <th>pixel36</th>\n",
              "      <th>pixel37</th>\n",
              "      <th>pixel38</th>\n",
              "      <th>pixel39</th>\n",
              "      <th>...</th>\n",
              "      <th>pixel745</th>\n",
              "      <th>pixel746</th>\n",
              "      <th>pixel747</th>\n",
              "      <th>pixel748</th>\n",
              "      <th>pixel749</th>\n",
              "      <th>pixel750</th>\n",
              "      <th>pixel751</th>\n",
              "      <th>pixel752</th>\n",
              "      <th>pixel753</th>\n",
              "      <th>pixel754</th>\n",
              "      <th>pixel755</th>\n",
              "      <th>pixel756</th>\n",
              "      <th>pixel757</th>\n",
              "      <th>pixel758</th>\n",
              "      <th>pixel759</th>\n",
              "      <th>pixel760</th>\n",
              "      <th>pixel761</th>\n",
              "      <th>pixel762</th>\n",
              "      <th>pixel763</th>\n",
              "      <th>pixel764</th>\n",
              "      <th>pixel765</th>\n",
              "      <th>pixel766</th>\n",
              "      <th>pixel767</th>\n",
              "      <th>pixel768</th>\n",
              "      <th>pixel769</th>\n",
              "      <th>pixel770</th>\n",
              "      <th>pixel771</th>\n",
              "      <th>pixel772</th>\n",
              "      <th>pixel773</th>\n",
              "      <th>pixel774</th>\n",
              "      <th>pixel775</th>\n",
              "      <th>pixel776</th>\n",
              "      <th>pixel777</th>\n",
              "      <th>pixel778</th>\n",
              "      <th>pixel779</th>\n",
              "      <th>pixel780</th>\n",
              "      <th>pixel781</th>\n",
              "      <th>pixel782</th>\n",
              "      <th>pixel783</th>\n",
              "      <th>pixel784</th>\n",
              "    </tr>\n",
              "  </thead>\n",
              "  <tbody>\n",
              "    <tr>\n",
              "      <th>0</th>\n",
              "      <td>2</td>\n",
              "      <td>0</td>\n",
              "      <td>0</td>\n",
              "      <td>0</td>\n",
              "      <td>0</td>\n",
              "      <td>0</td>\n",
              "      <td>0</td>\n",
              "      <td>0</td>\n",
              "      <td>0</td>\n",
              "      <td>0</td>\n",
              "      <td>0</td>\n",
              "      <td>0</td>\n",
              "      <td>0</td>\n",
              "      <td>0</td>\n",
              "      <td>0</td>\n",
              "      <td>0</td>\n",
              "      <td>0</td>\n",
              "      <td>0</td>\n",
              "      <td>0</td>\n",
              "      <td>0</td>\n",
              "      <td>0</td>\n",
              "      <td>0</td>\n",
              "      <td>0</td>\n",
              "      <td>0</td>\n",
              "      <td>0</td>\n",
              "      <td>0</td>\n",
              "      <td>0</td>\n",
              "      <td>0</td>\n",
              "      <td>0</td>\n",
              "      <td>0</td>\n",
              "      <td>0</td>\n",
              "      <td>0</td>\n",
              "      <td>0</td>\n",
              "      <td>0</td>\n",
              "      <td>0</td>\n",
              "      <td>0</td>\n",
              "      <td>0</td>\n",
              "      <td>0</td>\n",
              "      <td>0</td>\n",
              "      <td>0</td>\n",
              "      <td>...</td>\n",
              "      <td>0</td>\n",
              "      <td>0</td>\n",
              "      <td>0</td>\n",
              "      <td>0</td>\n",
              "      <td>0</td>\n",
              "      <td>0</td>\n",
              "      <td>0</td>\n",
              "      <td>0</td>\n",
              "      <td>0</td>\n",
              "      <td>0</td>\n",
              "      <td>0</td>\n",
              "      <td>0</td>\n",
              "      <td>0</td>\n",
              "      <td>0</td>\n",
              "      <td>0</td>\n",
              "      <td>0</td>\n",
              "      <td>0</td>\n",
              "      <td>0</td>\n",
              "      <td>0</td>\n",
              "      <td>0</td>\n",
              "      <td>0</td>\n",
              "      <td>0</td>\n",
              "      <td>0</td>\n",
              "      <td>0</td>\n",
              "      <td>0</td>\n",
              "      <td>0</td>\n",
              "      <td>0</td>\n",
              "      <td>0</td>\n",
              "      <td>0</td>\n",
              "      <td>0</td>\n",
              "      <td>0</td>\n",
              "      <td>0</td>\n",
              "      <td>0</td>\n",
              "      <td>0</td>\n",
              "      <td>0</td>\n",
              "      <td>0</td>\n",
              "      <td>0</td>\n",
              "      <td>0</td>\n",
              "      <td>0</td>\n",
              "      <td>0</td>\n",
              "    </tr>\n",
              "    <tr>\n",
              "      <th>1</th>\n",
              "      <td>9</td>\n",
              "      <td>0</td>\n",
              "      <td>0</td>\n",
              "      <td>0</td>\n",
              "      <td>0</td>\n",
              "      <td>0</td>\n",
              "      <td>0</td>\n",
              "      <td>0</td>\n",
              "      <td>0</td>\n",
              "      <td>0</td>\n",
              "      <td>0</td>\n",
              "      <td>0</td>\n",
              "      <td>0</td>\n",
              "      <td>0</td>\n",
              "      <td>0</td>\n",
              "      <td>0</td>\n",
              "      <td>0</td>\n",
              "      <td>0</td>\n",
              "      <td>0</td>\n",
              "      <td>0</td>\n",
              "      <td>0</td>\n",
              "      <td>0</td>\n",
              "      <td>0</td>\n",
              "      <td>0</td>\n",
              "      <td>0</td>\n",
              "      <td>0</td>\n",
              "      <td>0</td>\n",
              "      <td>0</td>\n",
              "      <td>0</td>\n",
              "      <td>0</td>\n",
              "      <td>0</td>\n",
              "      <td>0</td>\n",
              "      <td>0</td>\n",
              "      <td>0</td>\n",
              "      <td>0</td>\n",
              "      <td>0</td>\n",
              "      <td>0</td>\n",
              "      <td>0</td>\n",
              "      <td>0</td>\n",
              "      <td>0</td>\n",
              "      <td>...</td>\n",
              "      <td>0</td>\n",
              "      <td>0</td>\n",
              "      <td>0</td>\n",
              "      <td>0</td>\n",
              "      <td>0</td>\n",
              "      <td>0</td>\n",
              "      <td>0</td>\n",
              "      <td>0</td>\n",
              "      <td>0</td>\n",
              "      <td>0</td>\n",
              "      <td>0</td>\n",
              "      <td>0</td>\n",
              "      <td>0</td>\n",
              "      <td>0</td>\n",
              "      <td>0</td>\n",
              "      <td>0</td>\n",
              "      <td>0</td>\n",
              "      <td>0</td>\n",
              "      <td>0</td>\n",
              "      <td>0</td>\n",
              "      <td>0</td>\n",
              "      <td>0</td>\n",
              "      <td>0</td>\n",
              "      <td>0</td>\n",
              "      <td>0</td>\n",
              "      <td>0</td>\n",
              "      <td>0</td>\n",
              "      <td>0</td>\n",
              "      <td>0</td>\n",
              "      <td>0</td>\n",
              "      <td>0</td>\n",
              "      <td>0</td>\n",
              "      <td>0</td>\n",
              "      <td>0</td>\n",
              "      <td>0</td>\n",
              "      <td>0</td>\n",
              "      <td>0</td>\n",
              "      <td>0</td>\n",
              "      <td>0</td>\n",
              "      <td>0</td>\n",
              "    </tr>\n",
              "    <tr>\n",
              "      <th>2</th>\n",
              "      <td>6</td>\n",
              "      <td>0</td>\n",
              "      <td>0</td>\n",
              "      <td>0</td>\n",
              "      <td>0</td>\n",
              "      <td>0</td>\n",
              "      <td>0</td>\n",
              "      <td>0</td>\n",
              "      <td>5</td>\n",
              "      <td>0</td>\n",
              "      <td>0</td>\n",
              "      <td>0</td>\n",
              "      <td>105</td>\n",
              "      <td>92</td>\n",
              "      <td>101</td>\n",
              "      <td>107</td>\n",
              "      <td>100</td>\n",
              "      <td>132</td>\n",
              "      <td>0</td>\n",
              "      <td>0</td>\n",
              "      <td>2</td>\n",
              "      <td>4</td>\n",
              "      <td>0</td>\n",
              "      <td>1</td>\n",
              "      <td>0</td>\n",
              "      <td>0</td>\n",
              "      <td>0</td>\n",
              "      <td>0</td>\n",
              "      <td>0</td>\n",
              "      <td>0</td>\n",
              "      <td>0</td>\n",
              "      <td>0</td>\n",
              "      <td>0</td>\n",
              "      <td>0</td>\n",
              "      <td>0</td>\n",
              "      <td>0</td>\n",
              "      <td>0</td>\n",
              "      <td>0</td>\n",
              "      <td>0</td>\n",
              "      <td>150</td>\n",
              "      <td>...</td>\n",
              "      <td>211</td>\n",
              "      <td>220</td>\n",
              "      <td>214</td>\n",
              "      <td>74</td>\n",
              "      <td>0</td>\n",
              "      <td>255</td>\n",
              "      <td>222</td>\n",
              "      <td>128</td>\n",
              "      <td>0</td>\n",
              "      <td>0</td>\n",
              "      <td>0</td>\n",
              "      <td>0</td>\n",
              "      <td>0</td>\n",
              "      <td>0</td>\n",
              "      <td>0</td>\n",
              "      <td>0</td>\n",
              "      <td>0</td>\n",
              "      <td>44</td>\n",
              "      <td>12</td>\n",
              "      <td>0</td>\n",
              "      <td>0</td>\n",
              "      <td>40</td>\n",
              "      <td>134</td>\n",
              "      <td>162</td>\n",
              "      <td>191</td>\n",
              "      <td>214</td>\n",
              "      <td>163</td>\n",
              "      <td>146</td>\n",
              "      <td>165</td>\n",
              "      <td>79</td>\n",
              "      <td>0</td>\n",
              "      <td>0</td>\n",
              "      <td>0</td>\n",
              "      <td>30</td>\n",
              "      <td>43</td>\n",
              "      <td>0</td>\n",
              "      <td>0</td>\n",
              "      <td>0</td>\n",
              "      <td>0</td>\n",
              "      <td>0</td>\n",
              "    </tr>\n",
              "    <tr>\n",
              "      <th>3</th>\n",
              "      <td>0</td>\n",
              "      <td>0</td>\n",
              "      <td>0</td>\n",
              "      <td>0</td>\n",
              "      <td>1</td>\n",
              "      <td>2</td>\n",
              "      <td>0</td>\n",
              "      <td>0</td>\n",
              "      <td>0</td>\n",
              "      <td>0</td>\n",
              "      <td>0</td>\n",
              "      <td>114</td>\n",
              "      <td>183</td>\n",
              "      <td>112</td>\n",
              "      <td>55</td>\n",
              "      <td>23</td>\n",
              "      <td>72</td>\n",
              "      <td>102</td>\n",
              "      <td>165</td>\n",
              "      <td>160</td>\n",
              "      <td>28</td>\n",
              "      <td>0</td>\n",
              "      <td>0</td>\n",
              "      <td>0</td>\n",
              "      <td>1</td>\n",
              "      <td>0</td>\n",
              "      <td>0</td>\n",
              "      <td>0</td>\n",
              "      <td>0</td>\n",
              "      <td>0</td>\n",
              "      <td>0</td>\n",
              "      <td>0</td>\n",
              "      <td>0</td>\n",
              "      <td>1</td>\n",
              "      <td>0</td>\n",
              "      <td>0</td>\n",
              "      <td>24</td>\n",
              "      <td>188</td>\n",
              "      <td>163</td>\n",
              "      <td>93</td>\n",
              "      <td>...</td>\n",
              "      <td>171</td>\n",
              "      <td>249</td>\n",
              "      <td>207</td>\n",
              "      <td>197</td>\n",
              "      <td>202</td>\n",
              "      <td>45</td>\n",
              "      <td>0</td>\n",
              "      <td>3</td>\n",
              "      <td>0</td>\n",
              "      <td>0</td>\n",
              "      <td>0</td>\n",
              "      <td>0</td>\n",
              "      <td>0</td>\n",
              "      <td>0</td>\n",
              "      <td>0</td>\n",
              "      <td>0</td>\n",
              "      <td>0</td>\n",
              "      <td>0</td>\n",
              "      <td>1</td>\n",
              "      <td>0</td>\n",
              "      <td>0</td>\n",
              "      <td>0</td>\n",
              "      <td>22</td>\n",
              "      <td>21</td>\n",
              "      <td>25</td>\n",
              "      <td>69</td>\n",
              "      <td>52</td>\n",
              "      <td>45</td>\n",
              "      <td>74</td>\n",
              "      <td>39</td>\n",
              "      <td>3</td>\n",
              "      <td>0</td>\n",
              "      <td>0</td>\n",
              "      <td>0</td>\n",
              "      <td>0</td>\n",
              "      <td>1</td>\n",
              "      <td>0</td>\n",
              "      <td>0</td>\n",
              "      <td>0</td>\n",
              "      <td>0</td>\n",
              "    </tr>\n",
              "    <tr>\n",
              "      <th>4</th>\n",
              "      <td>3</td>\n",
              "      <td>0</td>\n",
              "      <td>0</td>\n",
              "      <td>0</td>\n",
              "      <td>0</td>\n",
              "      <td>0</td>\n",
              "      <td>0</td>\n",
              "      <td>0</td>\n",
              "      <td>0</td>\n",
              "      <td>0</td>\n",
              "      <td>0</td>\n",
              "      <td>0</td>\n",
              "      <td>0</td>\n",
              "      <td>46</td>\n",
              "      <td>0</td>\n",
              "      <td>21</td>\n",
              "      <td>68</td>\n",
              "      <td>0</td>\n",
              "      <td>0</td>\n",
              "      <td>0</td>\n",
              "      <td>0</td>\n",
              "      <td>0</td>\n",
              "      <td>0</td>\n",
              "      <td>0</td>\n",
              "      <td>0</td>\n",
              "      <td>0</td>\n",
              "      <td>0</td>\n",
              "      <td>0</td>\n",
              "      <td>0</td>\n",
              "      <td>0</td>\n",
              "      <td>0</td>\n",
              "      <td>0</td>\n",
              "      <td>0</td>\n",
              "      <td>0</td>\n",
              "      <td>0</td>\n",
              "      <td>0</td>\n",
              "      <td>0</td>\n",
              "      <td>25</td>\n",
              "      <td>187</td>\n",
              "      <td>189</td>\n",
              "      <td>...</td>\n",
              "      <td>230</td>\n",
              "      <td>237</td>\n",
              "      <td>229</td>\n",
              "      <td>0</td>\n",
              "      <td>0</td>\n",
              "      <td>1</td>\n",
              "      <td>0</td>\n",
              "      <td>0</td>\n",
              "      <td>0</td>\n",
              "      <td>0</td>\n",
              "      <td>0</td>\n",
              "      <td>0</td>\n",
              "      <td>0</td>\n",
              "      <td>0</td>\n",
              "      <td>0</td>\n",
              "      <td>0</td>\n",
              "      <td>0</td>\n",
              "      <td>0</td>\n",
              "      <td>0</td>\n",
              "      <td>0</td>\n",
              "      <td>0</td>\n",
              "      <td>68</td>\n",
              "      <td>116</td>\n",
              "      <td>112</td>\n",
              "      <td>136</td>\n",
              "      <td>147</td>\n",
              "      <td>144</td>\n",
              "      <td>121</td>\n",
              "      <td>102</td>\n",
              "      <td>63</td>\n",
              "      <td>0</td>\n",
              "      <td>0</td>\n",
              "      <td>0</td>\n",
              "      <td>0</td>\n",
              "      <td>0</td>\n",
              "      <td>0</td>\n",
              "      <td>0</td>\n",
              "      <td>0</td>\n",
              "      <td>0</td>\n",
              "      <td>0</td>\n",
              "    </tr>\n",
              "  </tbody>\n",
              "</table>\n",
              "<p>5 rows × 785 columns</p>\n",
              "</div>"
            ],
            "text/plain": [
              "   label  pixel1  pixel2  pixel3  ...  pixel781  pixel782  pixel783  pixel784\n",
              "0      2       0       0       0  ...         0         0         0         0\n",
              "1      9       0       0       0  ...         0         0         0         0\n",
              "2      6       0       0       0  ...         0         0         0         0\n",
              "3      0       0       0       0  ...         0         0         0         0\n",
              "4      3       0       0       0  ...         0         0         0         0\n",
              "\n",
              "[5 rows x 785 columns]"
            ]
          },
          "metadata": {
            "tags": []
          },
          "execution_count": 5
        }
      ]
    },
    {
      "cell_type": "code",
      "metadata": {
        "id": "2PxUjNCzRU6j",
        "colab_type": "code",
        "colab": {
          "base_uri": "https://localhost:8080/",
          "height": 244
        },
        "outputId": "95e9ce38-156c-4562-d32f-513c35f8bf03"
      },
      "source": [
        "test_data.head()"
      ],
      "execution_count": null,
      "outputs": [
        {
          "output_type": "execute_result",
          "data": {
            "text/html": [
              "<div>\n",
              "<style scoped>\n",
              "    .dataframe tbody tr th:only-of-type {\n",
              "        vertical-align: middle;\n",
              "    }\n",
              "\n",
              "    .dataframe tbody tr th {\n",
              "        vertical-align: top;\n",
              "    }\n",
              "\n",
              "    .dataframe thead th {\n",
              "        text-align: right;\n",
              "    }\n",
              "</style>\n",
              "<table border=\"1\" class=\"dataframe\">\n",
              "  <thead>\n",
              "    <tr style=\"text-align: right;\">\n",
              "      <th></th>\n",
              "      <th>label</th>\n",
              "      <th>pixel1</th>\n",
              "      <th>pixel2</th>\n",
              "      <th>pixel3</th>\n",
              "      <th>pixel4</th>\n",
              "      <th>pixel5</th>\n",
              "      <th>pixel6</th>\n",
              "      <th>pixel7</th>\n",
              "      <th>pixel8</th>\n",
              "      <th>pixel9</th>\n",
              "      <th>pixel10</th>\n",
              "      <th>pixel11</th>\n",
              "      <th>pixel12</th>\n",
              "      <th>pixel13</th>\n",
              "      <th>pixel14</th>\n",
              "      <th>pixel15</th>\n",
              "      <th>pixel16</th>\n",
              "      <th>pixel17</th>\n",
              "      <th>pixel18</th>\n",
              "      <th>pixel19</th>\n",
              "      <th>pixel20</th>\n",
              "      <th>pixel21</th>\n",
              "      <th>pixel22</th>\n",
              "      <th>pixel23</th>\n",
              "      <th>pixel24</th>\n",
              "      <th>pixel25</th>\n",
              "      <th>pixel26</th>\n",
              "      <th>pixel27</th>\n",
              "      <th>pixel28</th>\n",
              "      <th>pixel29</th>\n",
              "      <th>pixel30</th>\n",
              "      <th>pixel31</th>\n",
              "      <th>pixel32</th>\n",
              "      <th>pixel33</th>\n",
              "      <th>pixel34</th>\n",
              "      <th>pixel35</th>\n",
              "      <th>pixel36</th>\n",
              "      <th>pixel37</th>\n",
              "      <th>pixel38</th>\n",
              "      <th>pixel39</th>\n",
              "      <th>...</th>\n",
              "      <th>pixel745</th>\n",
              "      <th>pixel746</th>\n",
              "      <th>pixel747</th>\n",
              "      <th>pixel748</th>\n",
              "      <th>pixel749</th>\n",
              "      <th>pixel750</th>\n",
              "      <th>pixel751</th>\n",
              "      <th>pixel752</th>\n",
              "      <th>pixel753</th>\n",
              "      <th>pixel754</th>\n",
              "      <th>pixel755</th>\n",
              "      <th>pixel756</th>\n",
              "      <th>pixel757</th>\n",
              "      <th>pixel758</th>\n",
              "      <th>pixel759</th>\n",
              "      <th>pixel760</th>\n",
              "      <th>pixel761</th>\n",
              "      <th>pixel762</th>\n",
              "      <th>pixel763</th>\n",
              "      <th>pixel764</th>\n",
              "      <th>pixel765</th>\n",
              "      <th>pixel766</th>\n",
              "      <th>pixel767</th>\n",
              "      <th>pixel768</th>\n",
              "      <th>pixel769</th>\n",
              "      <th>pixel770</th>\n",
              "      <th>pixel771</th>\n",
              "      <th>pixel772</th>\n",
              "      <th>pixel773</th>\n",
              "      <th>pixel774</th>\n",
              "      <th>pixel775</th>\n",
              "      <th>pixel776</th>\n",
              "      <th>pixel777</th>\n",
              "      <th>pixel778</th>\n",
              "      <th>pixel779</th>\n",
              "      <th>pixel780</th>\n",
              "      <th>pixel781</th>\n",
              "      <th>pixel782</th>\n",
              "      <th>pixel783</th>\n",
              "      <th>pixel784</th>\n",
              "    </tr>\n",
              "  </thead>\n",
              "  <tbody>\n",
              "    <tr>\n",
              "      <th>0</th>\n",
              "      <td>0</td>\n",
              "      <td>0</td>\n",
              "      <td>0</td>\n",
              "      <td>0</td>\n",
              "      <td>0</td>\n",
              "      <td>0</td>\n",
              "      <td>0</td>\n",
              "      <td>0</td>\n",
              "      <td>9</td>\n",
              "      <td>8</td>\n",
              "      <td>0</td>\n",
              "      <td>0</td>\n",
              "      <td>34</td>\n",
              "      <td>29</td>\n",
              "      <td>7</td>\n",
              "      <td>0</td>\n",
              "      <td>11</td>\n",
              "      <td>24</td>\n",
              "      <td>0</td>\n",
              "      <td>0</td>\n",
              "      <td>3</td>\n",
              "      <td>3</td>\n",
              "      <td>1</td>\n",
              "      <td>0</td>\n",
              "      <td>1</td>\n",
              "      <td>1</td>\n",
              "      <td>0</td>\n",
              "      <td>0</td>\n",
              "      <td>0</td>\n",
              "      <td>0</td>\n",
              "      <td>0</td>\n",
              "      <td>4</td>\n",
              "      <td>0</td>\n",
              "      <td>0</td>\n",
              "      <td>1</td>\n",
              "      <td>0</td>\n",
              "      <td>0</td>\n",
              "      <td>0</td>\n",
              "      <td>0</td>\n",
              "      <td>0</td>\n",
              "      <td>...</td>\n",
              "      <td>242</td>\n",
              "      <td>245</td>\n",
              "      <td>224</td>\n",
              "      <td>245</td>\n",
              "      <td>234</td>\n",
              "      <td>0</td>\n",
              "      <td>3</td>\n",
              "      <td>0</td>\n",
              "      <td>0</td>\n",
              "      <td>0</td>\n",
              "      <td>0</td>\n",
              "      <td>0</td>\n",
              "      <td>0</td>\n",
              "      <td>0</td>\n",
              "      <td>0</td>\n",
              "      <td>0</td>\n",
              "      <td>0</td>\n",
              "      <td>0</td>\n",
              "      <td>0</td>\n",
              "      <td>37</td>\n",
              "      <td>69</td>\n",
              "      <td>94</td>\n",
              "      <td>123</td>\n",
              "      <td>127</td>\n",
              "      <td>138</td>\n",
              "      <td>138</td>\n",
              "      <td>142</td>\n",
              "      <td>145</td>\n",
              "      <td>135</td>\n",
              "      <td>125</td>\n",
              "      <td>103</td>\n",
              "      <td>87</td>\n",
              "      <td>56</td>\n",
              "      <td>0</td>\n",
              "      <td>0</td>\n",
              "      <td>0</td>\n",
              "      <td>0</td>\n",
              "      <td>0</td>\n",
              "      <td>0</td>\n",
              "      <td>0</td>\n",
              "    </tr>\n",
              "    <tr>\n",
              "      <th>1</th>\n",
              "      <td>1</td>\n",
              "      <td>0</td>\n",
              "      <td>0</td>\n",
              "      <td>0</td>\n",
              "      <td>0</td>\n",
              "      <td>0</td>\n",
              "      <td>0</td>\n",
              "      <td>0</td>\n",
              "      <td>0</td>\n",
              "      <td>0</td>\n",
              "      <td>0</td>\n",
              "      <td>0</td>\n",
              "      <td>209</td>\n",
              "      <td>190</td>\n",
              "      <td>181</td>\n",
              "      <td>150</td>\n",
              "      <td>170</td>\n",
              "      <td>193</td>\n",
              "      <td>180</td>\n",
              "      <td>219</td>\n",
              "      <td>5</td>\n",
              "      <td>0</td>\n",
              "      <td>0</td>\n",
              "      <td>0</td>\n",
              "      <td>0</td>\n",
              "      <td>0</td>\n",
              "      <td>0</td>\n",
              "      <td>0</td>\n",
              "      <td>0</td>\n",
              "      <td>0</td>\n",
              "      <td>0</td>\n",
              "      <td>0</td>\n",
              "      <td>0</td>\n",
              "      <td>0</td>\n",
              "      <td>0</td>\n",
              "      <td>0</td>\n",
              "      <td>0</td>\n",
              "      <td>0</td>\n",
              "      <td>0</td>\n",
              "      <td>24</td>\n",
              "      <td>...</td>\n",
              "      <td>248</td>\n",
              "      <td>238</td>\n",
              "      <td>80</td>\n",
              "      <td>0</td>\n",
              "      <td>0</td>\n",
              "      <td>0</td>\n",
              "      <td>0</td>\n",
              "      <td>0</td>\n",
              "      <td>0</td>\n",
              "      <td>0</td>\n",
              "      <td>0</td>\n",
              "      <td>0</td>\n",
              "      <td>0</td>\n",
              "      <td>0</td>\n",
              "      <td>0</td>\n",
              "      <td>0</td>\n",
              "      <td>0</td>\n",
              "      <td>0</td>\n",
              "      <td>0</td>\n",
              "      <td>0</td>\n",
              "      <td>0</td>\n",
              "      <td>0</td>\n",
              "      <td>0</td>\n",
              "      <td>174</td>\n",
              "      <td>233</td>\n",
              "      <td>155</td>\n",
              "      <td>0</td>\n",
              "      <td>65</td>\n",
              "      <td>235</td>\n",
              "      <td>216</td>\n",
              "      <td>34</td>\n",
              "      <td>0</td>\n",
              "      <td>0</td>\n",
              "      <td>0</td>\n",
              "      <td>0</td>\n",
              "      <td>0</td>\n",
              "      <td>0</td>\n",
              "      <td>0</td>\n",
              "      <td>0</td>\n",
              "      <td>0</td>\n",
              "    </tr>\n",
              "    <tr>\n",
              "      <th>2</th>\n",
              "      <td>2</td>\n",
              "      <td>0</td>\n",
              "      <td>0</td>\n",
              "      <td>0</td>\n",
              "      <td>0</td>\n",
              "      <td>0</td>\n",
              "      <td>0</td>\n",
              "      <td>14</td>\n",
              "      <td>53</td>\n",
              "      <td>99</td>\n",
              "      <td>17</td>\n",
              "      <td>0</td>\n",
              "      <td>0</td>\n",
              "      <td>0</td>\n",
              "      <td>0</td>\n",
              "      <td>0</td>\n",
              "      <td>0</td>\n",
              "      <td>0</td>\n",
              "      <td>0</td>\n",
              "      <td>12</td>\n",
              "      <td>94</td>\n",
              "      <td>68</td>\n",
              "      <td>14</td>\n",
              "      <td>0</td>\n",
              "      <td>0</td>\n",
              "      <td>0</td>\n",
              "      <td>0</td>\n",
              "      <td>0</td>\n",
              "      <td>0</td>\n",
              "      <td>0</td>\n",
              "      <td>0</td>\n",
              "      <td>0</td>\n",
              "      <td>0</td>\n",
              "      <td>0</td>\n",
              "      <td>38</td>\n",
              "      <td>106</td>\n",
              "      <td>94</td>\n",
              "      <td>89</td>\n",
              "      <td>94</td>\n",
              "      <td>68</td>\n",
              "      <td>...</td>\n",
              "      <td>0</td>\n",
              "      <td>0</td>\n",
              "      <td>0</td>\n",
              "      <td>0</td>\n",
              "      <td>0</td>\n",
              "      <td>0</td>\n",
              "      <td>87</td>\n",
              "      <td>12</td>\n",
              "      <td>26</td>\n",
              "      <td>0</td>\n",
              "      <td>0</td>\n",
              "      <td>0</td>\n",
              "      <td>0</td>\n",
              "      <td>0</td>\n",
              "      <td>0</td>\n",
              "      <td>0</td>\n",
              "      <td>46</td>\n",
              "      <td>50</td>\n",
              "      <td>29</td>\n",
              "      <td>0</td>\n",
              "      <td>2</td>\n",
              "      <td>0</td>\n",
              "      <td>0</td>\n",
              "      <td>0</td>\n",
              "      <td>0</td>\n",
              "      <td>0</td>\n",
              "      <td>0</td>\n",
              "      <td>0</td>\n",
              "      <td>0</td>\n",
              "      <td>0</td>\n",
              "      <td>0</td>\n",
              "      <td>0</td>\n",
              "      <td>0</td>\n",
              "      <td>0</td>\n",
              "      <td>63</td>\n",
              "      <td>53</td>\n",
              "      <td>31</td>\n",
              "      <td>0</td>\n",
              "      <td>0</td>\n",
              "      <td>0</td>\n",
              "    </tr>\n",
              "    <tr>\n",
              "      <th>3</th>\n",
              "      <td>2</td>\n",
              "      <td>0</td>\n",
              "      <td>0</td>\n",
              "      <td>0</td>\n",
              "      <td>0</td>\n",
              "      <td>0</td>\n",
              "      <td>0</td>\n",
              "      <td>0</td>\n",
              "      <td>0</td>\n",
              "      <td>0</td>\n",
              "      <td>161</td>\n",
              "      <td>212</td>\n",
              "      <td>138</td>\n",
              "      <td>150</td>\n",
              "      <td>169</td>\n",
              "      <td>164</td>\n",
              "      <td>176</td>\n",
              "      <td>202</td>\n",
              "      <td>255</td>\n",
              "      <td>183</td>\n",
              "      <td>26</td>\n",
              "      <td>0</td>\n",
              "      <td>0</td>\n",
              "      <td>0</td>\n",
              "      <td>0</td>\n",
              "      <td>0</td>\n",
              "      <td>0</td>\n",
              "      <td>0</td>\n",
              "      <td>0</td>\n",
              "      <td>0</td>\n",
              "      <td>0</td>\n",
              "      <td>0</td>\n",
              "      <td>1</td>\n",
              "      <td>0</td>\n",
              "      <td>0</td>\n",
              "      <td>129</td>\n",
              "      <td>221</td>\n",
              "      <td>255</td>\n",
              "      <td>255</td>\n",
              "      <td>215</td>\n",
              "      <td>...</td>\n",
              "      <td>255</td>\n",
              "      <td>255</td>\n",
              "      <td>254</td>\n",
              "      <td>252</td>\n",
              "      <td>255</td>\n",
              "      <td>101</td>\n",
              "      <td>196</td>\n",
              "      <td>254</td>\n",
              "      <td>252</td>\n",
              "      <td>100</td>\n",
              "      <td>0</td>\n",
              "      <td>0</td>\n",
              "      <td>0</td>\n",
              "      <td>0</td>\n",
              "      <td>0</td>\n",
              "      <td>168</td>\n",
              "      <td>232</td>\n",
              "      <td>225</td>\n",
              "      <td>0</td>\n",
              "      <td>41</td>\n",
              "      <td>172</td>\n",
              "      <td>147</td>\n",
              "      <td>148</td>\n",
              "      <td>153</td>\n",
              "      <td>155</td>\n",
              "      <td>146</td>\n",
              "      <td>137</td>\n",
              "      <td>141</td>\n",
              "      <td>143</td>\n",
              "      <td>137</td>\n",
              "      <td>137</td>\n",
              "      <td>126</td>\n",
              "      <td>140</td>\n",
              "      <td>0</td>\n",
              "      <td>133</td>\n",
              "      <td>224</td>\n",
              "      <td>222</td>\n",
              "      <td>56</td>\n",
              "      <td>0</td>\n",
              "      <td>0</td>\n",
              "    </tr>\n",
              "    <tr>\n",
              "      <th>4</th>\n",
              "      <td>3</td>\n",
              "      <td>0</td>\n",
              "      <td>0</td>\n",
              "      <td>0</td>\n",
              "      <td>0</td>\n",
              "      <td>0</td>\n",
              "      <td>0</td>\n",
              "      <td>0</td>\n",
              "      <td>0</td>\n",
              "      <td>0</td>\n",
              "      <td>0</td>\n",
              "      <td>37</td>\n",
              "      <td>0</td>\n",
              "      <td>0</td>\n",
              "      <td>0</td>\n",
              "      <td>0</td>\n",
              "      <td>0</td>\n",
              "      <td>0</td>\n",
              "      <td>17</td>\n",
              "      <td>0</td>\n",
              "      <td>0</td>\n",
              "      <td>0</td>\n",
              "      <td>0</td>\n",
              "      <td>0</td>\n",
              "      <td>0</td>\n",
              "      <td>0</td>\n",
              "      <td>0</td>\n",
              "      <td>0</td>\n",
              "      <td>0</td>\n",
              "      <td>0</td>\n",
              "      <td>0</td>\n",
              "      <td>0</td>\n",
              "      <td>0</td>\n",
              "      <td>0</td>\n",
              "      <td>0</td>\n",
              "      <td>0</td>\n",
              "      <td>0</td>\n",
              "      <td>21</td>\n",
              "      <td>204</td>\n",
              "      <td>235</td>\n",
              "      <td>...</td>\n",
              "      <td>0</td>\n",
              "      <td>2</td>\n",
              "      <td>0</td>\n",
              "      <td>0</td>\n",
              "      <td>0</td>\n",
              "      <td>0</td>\n",
              "      <td>0</td>\n",
              "      <td>0</td>\n",
              "      <td>0</td>\n",
              "      <td>0</td>\n",
              "      <td>0</td>\n",
              "      <td>0</td>\n",
              "      <td>0</td>\n",
              "      <td>0</td>\n",
              "      <td>0</td>\n",
              "      <td>0</td>\n",
              "      <td>0</td>\n",
              "      <td>0</td>\n",
              "      <td>0</td>\n",
              "      <td>0</td>\n",
              "      <td>0</td>\n",
              "      <td>0</td>\n",
              "      <td>0</td>\n",
              "      <td>0</td>\n",
              "      <td>1</td>\n",
              "      <td>0</td>\n",
              "      <td>2</td>\n",
              "      <td>69</td>\n",
              "      <td>0</td>\n",
              "      <td>2</td>\n",
              "      <td>0</td>\n",
              "      <td>0</td>\n",
              "      <td>0</td>\n",
              "      <td>0</td>\n",
              "      <td>0</td>\n",
              "      <td>0</td>\n",
              "      <td>0</td>\n",
              "      <td>0</td>\n",
              "      <td>0</td>\n",
              "      <td>0</td>\n",
              "    </tr>\n",
              "  </tbody>\n",
              "</table>\n",
              "<p>5 rows × 785 columns</p>\n",
              "</div>"
            ],
            "text/plain": [
              "   label  pixel1  pixel2  pixel3  ...  pixel781  pixel782  pixel783  pixel784\n",
              "0      0       0       0       0  ...         0         0         0         0\n",
              "1      1       0       0       0  ...         0         0         0         0\n",
              "2      2       0       0       0  ...        31         0         0         0\n",
              "3      2       0       0       0  ...       222        56         0         0\n",
              "4      3       0       0       0  ...         0         0         0         0\n",
              "\n",
              "[5 rows x 785 columns]"
            ]
          },
          "metadata": {
            "tags": []
          },
          "execution_count": 7
        }
      ]
    },
    {
      "cell_type": "markdown",
      "metadata": {
        "id": "vqdJorgPGaay",
        "colab_type": "text"
      },
      "source": [
        "Lets us load the train and test labels into separate variables in numpy array format."
      ]
    },
    {
      "cell_type": "code",
      "metadata": {
        "id": "GZGMMRibGfQn",
        "colab_type": "code",
        "colab": {}
      },
      "source": [
        "train_labels = train_data['label'].to_numpy()\n",
        "test_labels = test_data['label'].to_numpy()"
      ],
      "execution_count": 5,
      "outputs": []
    },
    {
      "cell_type": "markdown",
      "metadata": {
        "id": "cW1e5b_xIq3p",
        "colab_type": "text"
      },
      "source": [
        "There are 60,000 labels associated with the 60,000 images in the training set and each label is an integer between 0 and 9."
      ]
    },
    {
      "cell_type": "code",
      "metadata": {
        "id": "BH5wYydqIdSY",
        "colab_type": "code",
        "colab": {
          "base_uri": "https://localhost:8080/",
          "height": 50
        },
        "outputId": "59c60c45-5498-4243-84b9-4a00167786dd"
      },
      "source": [
        "print(len(train_labels))\n",
        "print(train_labels)"
      ],
      "execution_count": null,
      "outputs": [
        {
          "output_type": "stream",
          "text": [
            "60000\n",
            "[2 9 6 ... 8 8 7]\n"
          ],
          "name": "stdout"
        }
      ]
    },
    {
      "cell_type": "markdown",
      "metadata": {
        "id": "WpNLdZzNI-IJ",
        "colab_type": "text"
      },
      "source": [
        "Similarly, there are 10,000 labels with the 10,000 images in the test set and each label is an integer between 0 and 9."
      ]
    },
    {
      "cell_type": "code",
      "metadata": {
        "id": "vkf0HIqxJqFR",
        "colab_type": "code",
        "colab": {
          "base_uri": "https://localhost:8080/",
          "height": 50
        },
        "outputId": "9be38831-a5c2-4f9e-df3c-c8e135902090"
      },
      "source": [
        "print(len(test_labels))\n",
        "print(test_labels)"
      ],
      "execution_count": null,
      "outputs": [
        {
          "output_type": "stream",
          "text": [
            "10000\n",
            "[0 1 2 ... 8 8 1]\n"
          ],
          "name": "stdout"
        }
      ]
    },
    {
      "cell_type": "markdown",
      "metadata": {
        "id": "4kjBENBxGmeZ",
        "colab_type": "text"
      },
      "source": [
        "Now, lets drop the label column from our train_data and test_data dataframes and store the remaining values (i.e. the pixel values) into separated variables in numpy array format."
      ]
    },
    {
      "cell_type": "code",
      "metadata": {
        "id": "XY9kmNiXGtNo",
        "colab_type": "code",
        "colab": {}
      },
      "source": [
        "flattened_train_images = train_data.drop('label', axis = 'columns').to_numpy()\n",
        "flattened_test_images = test_data.drop('label', axis = 'columns').to_numpy()"
      ],
      "execution_count": 6,
      "outputs": []
    },
    {
      "cell_type": "markdown",
      "metadata": {
        "id": "snrZJth2Gryw",
        "colab_type": "text"
      },
      "source": [
        "Lets print the shape of our flattened images."
      ]
    },
    {
      "cell_type": "code",
      "metadata": {
        "id": "eZJ-Xm-BG3co",
        "colab_type": "code",
        "colab": {
          "base_uri": "https://localhost:8080/",
          "height": 50
        },
        "outputId": "3af1983b-5c2c-4ebb-8bf5-56c3769f8f7e"
      },
      "source": [
        "print(\"Shape of flattened train images: \", flattened_train_images.shape)\n",
        "print(\"Shape of flattened test images:\", flattened_test_images.shape)"
      ],
      "execution_count": null,
      "outputs": [
        {
          "output_type": "stream",
          "text": [
            "Shape of flattened train images:  (60000, 784)\n",
            "Shape of flattened test images: (10000, 784)\n"
          ],
          "name": "stdout"
        }
      ]
    },
    {
      "cell_type": "markdown",
      "metadata": {
        "id": "0_uhY1H5G9QF",
        "colab_type": "text"
      },
      "source": [
        "(60000, 784) means that we have 60000 rows and 784 columns\n",
        "Here the each row is an vector of 784 elements (pixel values) and we have 60000 such rows.\n",
        "\n",
        "(10000, 784) means that we have 10000 rows and 784 columns\n",
        "Here the each row is an vector of 784 elements (pixel values) and we have 10000 such rows"
      ]
    },
    {
      "cell_type": "markdown",
      "metadata": {
        "id": "Ko4_Z4PWLT1d",
        "colab_type": "text"
      },
      "source": [
        "# Preprocess the data"
      ]
    },
    {
      "cell_type": "markdown",
      "metadata": {
        "id": "y85GKSerVqVH",
        "colab_type": "text"
      },
      "source": [
        "First we will check if there is any null(NaN) values in our dataset."
      ]
    },
    {
      "cell_type": "code",
      "metadata": {
        "id": "CU0tPSOiVRnq",
        "colab_type": "code",
        "colab": {
          "base_uri": "https://localhost:8080/",
          "height": 218
        },
        "outputId": "d61540e6-a1d8-43cf-e1a2-2b6a0ce3b014"
      },
      "source": [
        "train_data.isnull().sum()"
      ],
      "execution_count": null,
      "outputs": [
        {
          "output_type": "execute_result",
          "data": {
            "text/plain": [
              "label       0\n",
              "pixel1      0\n",
              "pixel2      0\n",
              "pixel3      0\n",
              "pixel4      0\n",
              "           ..\n",
              "pixel780    0\n",
              "pixel781    0\n",
              "pixel782    0\n",
              "pixel783    0\n",
              "pixel784    0\n",
              "Length: 785, dtype: int64"
            ]
          },
          "metadata": {
            "tags": []
          },
          "execution_count": 6
        }
      ]
    },
    {
      "cell_type": "markdown",
      "metadata": {
        "id": "pp63O2sBVzcc",
        "colab_type": "text"
      },
      "source": [
        "So as there is no null(NaN) values in our dataset, therefore, we don't need to Data Wrangling i.e. data cleaning."
      ]
    },
    {
      "cell_type": "markdown",
      "metadata": {
        "id": "jhbSQDz3L38I",
        "colab_type": "text"
      },
      "source": [
        "Now he data must be preprocessed before training the model. If you inspect the first image in the training set, you will see that the pixel values fall in the range of 0 to 255."
      ]
    },
    {
      "cell_type": "code",
      "metadata": {
        "id": "p5cUquS_LMIg",
        "colab_type": "code",
        "colab": {
          "base_uri": "https://localhost:8080/",
          "height": 265
        },
        "outputId": "a02567e1-190a-4e30-c26f-33eb17e7ace1"
      },
      "source": [
        "plt.figure()\n",
        "plt.imshow(flattened_train_images[0].reshape(28,28))\n",
        "plt.colorbar()\n",
        "plt.grid(False)\n",
        "plt.show()"
      ],
      "execution_count": null,
      "outputs": [
        {
          "output_type": "display_data",
          "data": {
            "image/png": "[encoded data removed]",
            "text/plain": [
              "<Figure size 432x288 with 2 Axes>"
            ]
          },
          "metadata": {
            "tags": [],
            "needs_background": "light"
          }
        }
      ]
    },
    {
      "cell_type": "markdown",
      "metadata": {
        "id": "5LRCoTEeNpnh",
        "colab_type": "text"
      },
      "source": [
        "Each image (instance) in the dataset has 784 pixels (features) and value of each feature(pixel) ranges from 0 to 255, and this range is too wide , hence we would need to use feature scaling here.So scale these values to a range of 0 to 1 before feeding them to the model. To do so, divide the values by 255. It's important that the training set and the testing set be preprocessed in the same way."
      ]
    },
    {
      "cell_type": "markdown",
      "metadata": {
        "id": "Fhg9WQwLOrc3",
        "colab_type": "text"
      },
      "source": [
        "So firstly we will scale the train_data.\n"
      ]
    },
    {
      "cell_type": "code",
      "metadata": {
        "id": "DmNW2oEoNw0L",
        "colab_type": "code",
        "colab": {}
      },
      "source": [
        "scaledX = flattened_train_images / 255.0"
      ],
      "execution_count": 7,
      "outputs": []
    },
    {
      "cell_type": "code",
      "metadata": {
        "id": "eflIP5U9N-8a",
        "colab_type": "code",
        "colab": {
          "base_uri": "https://localhost:8080/",
          "height": 34
        },
        "outputId": "61537323-3023-4297-8b3a-55c5ff5c7495"
      },
      "source": [
        "scaledX.shape"
      ],
      "execution_count": null,
      "outputs": [
        {
          "output_type": "execute_result",
          "data": {
            "text/plain": [
              "(60000, 784)"
            ]
          },
          "metadata": {
            "tags": []
          },
          "execution_count": 12
        }
      ]
    },
    {
      "cell_type": "markdown",
      "metadata": {
        "id": "GTxmLLYgOwsf",
        "colab_type": "text"
      },
      "source": [
        "And then we will scale the test_data."
      ]
    },
    {
      "cell_type": "code",
      "metadata": {
        "id": "5TpoIVFiOBKA",
        "colab_type": "code",
        "colab": {}
      },
      "source": [
        "scaledY = flattened_test_images / 255.0"
      ],
      "execution_count": 8,
      "outputs": []
    },
    {
      "cell_type": "code",
      "metadata": {
        "id": "FcTTLBgfOiz0",
        "colab_type": "code",
        "colab": {
          "base_uri": "https://localhost:8080/",
          "height": 34
        },
        "outputId": "69123c37-c5f1-46d8-b61a-7230e3ae54ae"
      },
      "source": [
        "scaledY.shape"
      ],
      "execution_count": null,
      "outputs": [
        {
          "output_type": "execute_result",
          "data": {
            "text/plain": [
              "(10000, 784)"
            ]
          },
          "metadata": {
            "tags": []
          },
          "execution_count": 14
        }
      ]
    },
    {
      "cell_type": "markdown",
      "metadata": {
        "id": "J3fcAJ1_Klur",
        "colab_type": "text"
      },
      "source": [
        "To verify that the data is in the correct format and that you're ready to build and train the model.\n",
        "So let's display the first 25 images from the training set and display the class name below each image.\\\n",
        "For this, we need to convert our 1-Dimensional vector to 2-Dimensional Vector for plotting it.\n",
        "This can be done using reshape() method of numpy.\n",
        "\n",
        "\n",
        "\n"
      ]
    },
    {
      "cell_type": "code",
      "metadata": {
        "id": "F-XtKuuvcOwT",
        "colab_type": "code",
        "colab": {
          "base_uri": "https://localhost:8080/",
          "height": 589
        },
        "outputId": "7fd734de-2358-4725-a944-8bb7e172f866"
      },
      "source": [
        "plt.figure(figsize=(10,10))\n",
        "for i in range(25):\n",
        "    plt.subplot(5,5, i+1)\n",
        "    plt.xticks([])\n",
        "    plt.yticks([])\n",
        "    plt.grid(False)\n",
        "    plt.imshow(flattened_train_images[i].reshape((28, 28)), cmap=plt.cm.binary)\n",
        "    plt.xlabel(class_names[train_labels[i]])\n",
        "plt.show()"
      ],
      "execution_count": 9,
      "outputs": [
        {
          "output_type": "display_data",
          "data": {
            "image/png": "[encoded data removed]",
            "text/plain": [
              "<Figure size 720x720 with 25 Axes>"
            ]
          },
          "metadata": {
            "tags": []
          }
        }
      ]
    },
    {
      "cell_type": "markdown",
      "metadata": {
        "id": "2nJ1DwpjMq0W",
        "colab_type": "text"
      },
      "source": [
        "Now let's check the skewness of our dataset.\n",
        "\n",
        "Skewness refers to distortion or asymmetry in a symmetrical bell curve, or normal distribution, in a set of data. Skewness can be quantified as a representation of the extent to which a given distribution varies from a normal distribution. A normal distribution has a skew of zero."
      ]
    },
    {
      "cell_type": "code",
      "metadata": {
        "id": "L9PpaNg3cUWA",
        "colab_type": "code",
        "colab": {
          "base_uri": "https://localhost:8080/",
          "height": 34
        },
        "outputId": "ce8b8a05-995d-4ece-97fe-a67534726880"
      },
      "source": [
        "train_data.label.skew()"
      ],
      "execution_count": null,
      "outputs": [
        {
          "output_type": "execute_result",
          "data": {
            "text/plain": [
              "0.0"
            ]
          },
          "metadata": {
            "tags": []
          },
          "execution_count": 20
        }
      ]
    },
    {
      "cell_type": "markdown",
      "metadata": {
        "id": "7DAji973M3XB",
        "colab_type": "text"
      },
      "source": [
        "Our dataset is skewness free as in our dataset all the classes has same no. of input images.We can see that by using Counter() method which gives the count of images that all classes have."
      ]
    },
    {
      "cell_type": "code",
      "metadata": {
        "id": "Iwtq0vdicY89",
        "colab_type": "code",
        "colab": {
          "base_uri": "https://localhost:8080/",
          "height": 185
        },
        "outputId": "c68ddb52-ce9f-4385-bd0b-c04ee9fbdae5"
      },
      "source": [
        "Counter(train_data.label)"
      ],
      "execution_count": null,
      "outputs": [
        {
          "output_type": "execute_result",
          "data": {
            "text/plain": [
              "Counter({0: 6000,\n",
              "         1: 6000,\n",
              "         2: 6000,\n",
              "         3: 6000,\n",
              "         4: 6000,\n",
              "         5: 6000,\n",
              "         6: 6000,\n",
              "         7: 6000,\n",
              "         8: 6000,\n",
              "         9: 6000})"
            ]
          },
          "metadata": {
            "tags": []
          },
          "execution_count": 21
        }
      ]
    },
    {
      "cell_type": "markdown",
      "metadata": {
        "id": "UbT3JU7CNsf4",
        "colab_type": "text"
      },
      "source": [
        "# Feature Extraction"
      ]
    },
    {
      "cell_type": "markdown",
      "metadata": {
        "id": "uZR3abXzNwiZ",
        "colab_type": "text"
      },
      "source": [
        "Feature Extraction aims to reduce the number of features in a dataset by creating new features from the existing ones (and then discarding the original features). These new reduced set of features should then be able to summarize most of the information contained in the original set of features.\n",
        "\n",
        "Now as we know that in our dataset we have 784 features, so it will take time to train the model and make predictions.\n",
        "\n",
        "So lets apply Dimensionality Reduction to the training dataset to reduce the number of features in the dataset, so that the time taken for trainig the model and prediction is reduced. Also, we will calculate the scores based on the reduced features.\n",
        "\n",
        "Here we will use Principle Components Analysis (PCA) techniques for dimensionality reduction.\n",
        "\n"
      ]
    },
    {
      "cell_type": "code",
      "metadata": {
        "id": "CAs_2tX2R8Pw",
        "colab_type": "code",
        "colab": {
          "base_uri": "https://localhost:8080/",
          "height": 34
        },
        "outputId": "51eb60c7-4862-4cf5-9221-1908b3881ca4"
      },
      "source": [
        "pca = PCA(n_components=340)\n",
        "pca.fit(scaledX)\n",
        "PCA(copy=True, iterated_power='auto', n_components=340, random_state=None,\n",
        "  svd_solver='auto', tol=0.0, whiten=False)\n",
        "\n",
        "train_data_pca = pca.transform(scaledX)\n",
        "print(\"Shape of reduced train data:\",train_data_pca.shape)\n"
      ],
      "execution_count": 10,
      "outputs": [
        {
          "output_type": "stream",
          "text": [
            "Shape of reduced train data: (60000, 340)\n"
          ],
          "name": "stdout"
        }
      ]
    },
    {
      "cell_type": "code",
      "metadata": {
        "id": "z6tES2sUFSU5",
        "colab_type": "code",
        "colab": {
          "base_uri": "https://localhost:8080/",
          "height": 34
        },
        "outputId": "9596f4ca-ce16-4ec4-d91d-7520e65f3e4e"
      },
      "source": [
        "# lets find the variance ratio\n",
        "np.sum(pca.explained_variance_ratio_)"
      ],
      "execution_count": null,
      "outputs": [
        {
          "output_type": "execute_result",
          "data": {
            "text/plain": [
              "0.9786800023605179"
            ]
          },
          "metadata": {
            "tags": []
          },
          "execution_count": 31
        }
      ]
    },
    {
      "cell_type": "code",
      "metadata": {
        "id": "khGk_1qzFNMg",
        "colab_type": "code",
        "colab": {
          "base_uri": "https://localhost:8080/",
          "height": 295
        },
        "outputId": "03600efa-9da1-4f2d-ad05-170fd66dc522"
      },
      "source": [
        "# Plot the cumulative sum of eigenvalues\n",
        "plt.figure()\n",
        "plt.plot(np.cumsum(pca.explained_variance_ratio_))\n",
        "plt.xlabel('Number of Features')\n",
        "plt.ylabel('Variance (%)') #for each component\n",
        "plt.title('Fashion-MNIST Variance')\n",
        "plt.show()"
      ],
      "execution_count": null,
      "outputs": [
        {
          "output_type": "display_data",
          "data": {
            "image/png": "[encoded data removed]",
            "text/plain": [
              "<Figure size 432x288 with 1 Axes>"
            ]
          },
          "metadata": {
            "tags": [],
            "needs_background": "light"
          }
        }
      ]
    },
    {
      "cell_type": "markdown",
      "metadata": {
        "id": "NeXXQRsWFcdX",
        "colab_type": "text"
      },
      "source": [
        "Here the Variance graph showed that by using around 340 features, we can retain approximately 97% of the data.\n",
        "\n"
      ]
    },
    {
      "cell_type": "markdown",
      "metadata": {
        "id": "0REhr54IShBm",
        "colab_type": "text"
      },
      "source": [
        "So now after applying PCA shape of reduced train data is (60000, 340).  "
      ]
    },
    {
      "cell_type": "markdown",
      "metadata": {
        "id": "EGfoK6NnSs4N",
        "colab_type": "text"
      },
      "source": [
        "Now the train_data_pca that we got after applying dimensionality reduction are called compressed dataset.\n",
        "Now, to check, if there was any significant information (data) loss for image of train_data_pca (that we got after dimensionality reduction), due to compression, as compared to original dataset scaledX, let us recover one of the images from train_data_pca dataset by decompressing (applying inverse) it and compare this recovered image (decompressed image) with its corresponding original image (from scaledX).\n",
        "\n",
        "\n"
      ]
    },
    {
      "cell_type": "markdown",
      "metadata": {
        "id": "_CIHjAFiS1q6",
        "colab_type": "text"
      },
      "source": [
        "Let us recover (decompress) one of the images (instance) of train_data_pca.\n",
        "\n"
      ]
    },
    {
      "cell_type": "code",
      "metadata": {
        "id": "yeMqWKMSTyPI",
        "colab_type": "code",
        "colab": {}
      },
      "source": [
        "# use inverse_transform to decompress back to 784 dimensions for train_data_pca\n",
        "train_data_pca_recovered = pca.inverse_transform(train_data_pca)"
      ],
      "execution_count": 11,
      "outputs": []
    },
    {
      "cell_type": "code",
      "metadata": {
        "id": "gJRS0pWFrAFT",
        "colab_type": "code",
        "colab": {
          "base_uri": "https://localhost:8080/",
          "height": 34
        },
        "outputId": "2fd500fd-14db-47f2-ccca-3cdd12c2c575"
      },
      "source": [
        "train_data_pca_recovered.shape"
      ],
      "execution_count": null,
      "outputs": [
        {
          "output_type": "execute_result",
          "data": {
            "text/plain": [
              "(60000, 784)"
            ]
          },
          "metadata": {
            "tags": []
          },
          "execution_count": 77
        }
      ]
    },
    {
      "cell_type": "markdown",
      "metadata": {
        "id": "rxkMpKawjtEp",
        "colab_type": "text"
      },
      "source": [
        "Now let's display the original images and compressed images for train_data_pca"
      ]
    },
    {
      "cell_type": "code",
      "metadata": {
        "id": "YXAuSjT2UCbB",
        "colab_type": "code",
        "colab": {
          "base_uri": "https://localhost:8080/",
          "height": 262
        },
        "outputId": "477f9ee7-bd90-4ce2-d118-9a863566cb5f"
      },
      "source": [
        "# for train_data_pca\n",
        "def plot_digits(instances, images_per_row=5, **options):\n",
        "    size = 28\n",
        "    images_per_row = min(len(instances), images_per_row)\n",
        "    images = [instance.reshape(size,size) for instance in instances]\n",
        "    n_rows = (len(instances) - 1) // images_per_row + 1\n",
        "    row_images = []\n",
        "    n_empty = n_rows * images_per_row - len(instances)\n",
        "    images.append(np.zeros((size, size * n_empty)))\n",
        "    for row in range(n_rows):\n",
        "        rimages = images[row * images_per_row : (row + 1) * images_per_row]\n",
        "        row_images.append(np.concatenate(rimages, axis=1))\n",
        "    image = np.concatenate(row_images, axis=0)\n",
        "    plt.imshow(image, cmap = matplotlib.cm.binary, **options)\n",
        "    plt.axis(\"off\")\n",
        "plt.figure(figsize=(7, 4))\n",
        "plt.subplot(121)\n",
        "# Plotting 'original' image\n",
        "plot_digits(scaledX[::2100])\n",
        "plt.title(\"Original\", fontsize=16)\n",
        "plt.subplot(122)\n",
        "# Plotting the corresponding 'recovered' image\n",
        "plot_digits(train_data_pca_recovered[::2100])\n",
        "plt.title(\"Compressed\", fontsize=16)\n",
        "plt.show()\n"
      ],
      "execution_count": null,
      "outputs": [
        {
          "output_type": "display_data",
          "data": {
            "image/png": "[encoded data removed]",
            "text/plain": [
              "<Figure size 504x288 with 2 Axes>"
            ]
          },
          "metadata": {
            "tags": [],
            "needs_background": "light"
          }
        }
      ]
    },
    {
      "cell_type": "markdown",
      "metadata": {
        "id": "HM20DVzjVaZS",
        "colab_type": "text"
      },
      "source": [
        "By applying dimensionality reduction, we don't get any significant loss of information(quality) in the resulting train_data_pca dataset. Hence, we can use the train_data_pca (dimensionally reduced dataset) for training the model and predictions."
      ]
    },
    {
      "cell_type": "markdown",
      "metadata": {
        "id": "V0HEkuQDQ_87",
        "colab_type": "text"
      },
      "source": [
        "# Train the model\n",
        "Training the  model requires the following steps:\n",
        "\n",
        "1.   Feed the training data to the model. In this, we will use the compressed train data (train_data_pca) and train_lablels to train our model.\n",
        "2.   Then model learns to associate the images and labels.\n",
        "3. You ask the model to make predictions about a test set—in this we will use test_data_pca(reduced test data).\n",
        "4. Verify that the predictions match the labels from the test_labels array.\n",
        "\n",
        "\n",
        "\n",
        "\n",
        "\n",
        "\n"
      ]
    },
    {
      "cell_type": "markdown",
      "metadata": {
        "id": "LsLxYr9vSi6r",
        "colab_type": "text"
      },
      "source": [
        "Since, we have multiple classes (unique values - 0,1,2,...9) for the label in the target dataset , its a 'multi-class' Classification problem.\n",
        "\n",
        "There are basically two strategies using which we can use multiple binary classifiers for multiclass classification. They are\n",
        "\n",
        "(1) One-versus-all (OvA) strategy also called one-versus-the-rest\n",
        "\n",
        "(2) One-versus-one (OvO) strategy\n",
        "\n",
        "In OvA strategy, to create a system that can classify the digit images into 10 classes (from 0 to 9), we train 10 binary classifiers, one for each digit (a 0-detector, a 1-detector, a 2-detector, and so on). Then when we want to classify an image, we get the decision score from each classifier for that image and we select the class whose classifier outputs the highest score.\n",
        "\n",
        "We will use OvA strategy for this multi-class Classification problem. When you try to use a 'Binary Classification Algorithm/Model(binary classifier)' for a multi-class classification problem using Scikit Learn, Scikit Learn by default uses OvA strategy internally."
      ]
    },
    {
      "cell_type": "markdown",
      "metadata": {
        "id": "wRAv9blSTEzY",
        "colab_type": "text"
      },
      "source": [
        "We will use 6 algorithms here:\n",
        "\n",
        "\n",
        "1.   Support Vector Classification (SVC)\n",
        "2.  Gradient Boosting Classifictaion\n",
        "3.Logistic Regression (Softmax regression)\n",
        "4. Decision Tree Classification\n",
        "5. Random Forest Classification\n",
        "6. Ensemble with soft voting\n",
        "\n"
      ]
    },
    {
      "cell_type": "markdown",
      "metadata": {
        "id": "DqlLabCne701",
        "colab_type": "text"
      },
      "source": [
        "Here we make a function showImage() to make it easier to display the image further. Then we show the first image from flattened_train_iamges that we will be use further for predictions. "
      ]
    },
    {
      "cell_type": "code",
      "metadata": {
        "id": "RD4Vb28gfP_p",
        "colab_type": "code",
        "colab": {}
      },
      "source": [
        "def showImage(data):\n",
        "    some_article = data\n",
        "    some_article_image = some_article.reshape(28, 28) # Reshaping it to get the 28x28 pixels\n",
        "    plt.imshow(some_article_image, cmap = matplotlib.cm.binary, interpolation=\"nearest\")\n",
        "    plt.axis(\"off\")\n",
        "    plt.show()"
      ],
      "execution_count": 12,
      "outputs": []
    },
    {
      "cell_type": "code",
      "metadata": {
        "id": "3zcxbKpff0z6",
        "colab_type": "code",
        "colab": {
          "base_uri": "https://localhost:8080/",
          "height": 248
        },
        "outputId": "351cda7f-2467-4e58-9012-91e1d2307e72"
      },
      "source": [
        "showImage(flattened_train_images[0])"
      ],
      "execution_count": null,
      "outputs": [
        {
          "output_type": "display_data",
          "data": {
            "image/png": "[encoded data removed]",
            "text/plain": [
              "<Figure size 432x288 with 1 Axes>"
            ]
          },
          "metadata": {
            "tags": [],
            "needs_background": "light"
          }
        }
      ]
    },
    {
      "cell_type": "markdown",
      "metadata": {
        "id": "d03UNJpnplsy",
        "colab_type": "text"
      },
      "source": [
        "Now here we make a function plot_confusion_matrix to plot a graph of confusion matrix further."
      ]
    },
    {
      "cell_type": "code",
      "metadata": {
        "id": "ngpL1dXEpiin",
        "colab_type": "code",
        "colab": {}
      },
      "source": [
        "def plot_confusion_matrix(cm, names, title='Confusion matrix', cmap=plt.cm.Blues):\n",
        "    plt.imshow(cm, interpolation='nearest', cmap=cmap)\n",
        "    plt.title(title)\n",
        "    plt.colorbar()\n",
        "    tick_marks = np.arange(len(names))\n",
        "    plt.xticks(tick_marks, names, rotation=90)\n",
        "    plt.yticks(tick_marks, names)\n",
        "    plt.tight_layout()\n",
        "    plt.ylabel('True label')\n",
        "    plt.xlabel('Predicted label')"
      ],
      "execution_count": 13,
      "outputs": []
    },
    {
      "cell_type": "markdown",
      "metadata": {
        "id": "9aCkASzthz1b",
        "colab_type": "text"
      },
      "source": [
        "We will use the fit() method to train our model for different algorithms."
      ]
    },
    {
      "cell_type": "markdown",
      "metadata": {
        "id": "Q9YXhauBTqwf",
        "colab_type": "text"
      },
      "source": [
        "Let's try  **Support Vector Classification (SVC)** first."
      ]
    },
    {
      "cell_type": "code",
      "metadata": {
        "id": "efHz6lSSgELo",
        "colab_type": "code",
        "colab": {
          "base_uri": "https://localhost:8080/",
          "height": 34
        },
        "outputId": "1e34c106-ba99-41fa-bd52-03a62ca4d444"
      },
      "source": [
        "start1 = time.time()\n",
        "svc = SVC(C=1, kernel='linear', gamma=\"auto\")\n",
        "svc.fit(scaledX, train_labels)\n",
        "end1 = time.time()\n",
        "svm_time = end1-start1\n",
        "print(\"SVM Time: {:0.2f} minute\".format(svm_time/60.0))"
      ],
      "execution_count": null,
      "outputs": [
        {
          "output_type": "stream",
          "text": [
            "SVM Time: 14.65 minute\n"
          ],
          "name": "stdout"
        }
      ]
    },
    {
      "cell_type": "code",
      "metadata": {
        "id": "h9A_UES-l4a8",
        "colab_type": "code",
        "colab": {}
      },
      "source": [
        "# Let us predict all instances of training dataset scaledX using the above trained model\n",
        "train_labels_predict_svc = svc.predict(scaledX)"
      ],
      "execution_count": null,
      "outputs": []
    },
    {
      "cell_type": "code",
      "metadata": {
        "id": "E1j9P_RTmPkK",
        "colab_type": "code",
        "colab": {
          "base_uri": "https://localhost:8080/",
          "height": 34
        },
        "outputId": "888a3475-e06e-4365-f769-0305297ab531"
      },
      "source": [
        "train_labels[0]"
      ],
      "execution_count": null,
      "outputs": [
        {
          "output_type": "execute_result",
          "data": {
            "text/plain": [
              "2"
            ]
          },
          "metadata": {
            "tags": []
          },
          "execution_count": 23
        }
      ]
    },
    {
      "cell_type": "code",
      "metadata": {
        "id": "FVS8Sg43mWc2",
        "colab_type": "code",
        "colab": {
          "base_uri": "https://localhost:8080/",
          "height": 34
        },
        "outputId": "c87d7484-a61f-451f-fe31-76d13a7314ec"
      },
      "source": [
        "train_labels_predict_svc[0]"
      ],
      "execution_count": null,
      "outputs": [
        {
          "output_type": "execute_result",
          "data": {
            "text/plain": [
              "2"
            ]
          },
          "metadata": {
            "tags": []
          },
          "execution_count": 25
        }
      ]
    },
    {
      "cell_type": "markdown",
      "metadata": {
        "id": "fp-hjw0kF26w",
        "colab_type": "text"
      },
      "source": [
        "Lets see the image at flattened_train_images[0] to check whether the predicted label is correct or not.\n",
        "\n"
      ]
    },
    {
      "cell_type": "code",
      "metadata": {
        "id": "Aqj-26nmmgIS",
        "colab_type": "code",
        "colab": {
          "base_uri": "https://localhost:8080/",
          "height": 248
        },
        "outputId": "873989f5-c1f2-4ca9-81b9-329d367d2837"
      },
      "source": [
        "showImage(flattened_train_images[0])"
      ],
      "execution_count": null,
      "outputs": [
        {
          "output_type": "display_data",
          "data": {
            "image/png": "[encoded data removed]",
            "text/plain": [
              "<Figure size 432x288 with 1 Axes>"
            ]
          },
          "metadata": {
            "tags": [],
            "needs_background": "light"
          }
        }
      ]
    },
    {
      "cell_type": "code",
      "metadata": {
        "id": "00lmP3gpadkh",
        "colab_type": "code",
        "colab": {
          "base_uri": "https://localhost:8080/",
          "height": 84
        },
        "outputId": "0ce3283f-4b65-4047-d66b-023ee04d7551"
      },
      "source": [
        "sv_accuracy = accuracy_score(train_labels, train_labels_predict_svc)\n",
        "sv_precision = precision_score(train_labels, train_labels_predict_svc, average='weighted')\n",
        "sv_recall = recall_score(train_labels, train_labels_predict_svc, average='weighted')\n",
        "sv_f1_score = f1_score(train_labels, train_labels_predict_svc, average='weighted')\n",
        "\n",
        "print(\"Support Vector Classification Accuracy: \", sv_accuracy)\n",
        "print(\"Support Vector Classification Precision: \", sv_precision)\n",
        "print(\"Support Vector Classification Recall: \", sv_precision)\n",
        "print(\"Support Vector Classification F1 Score: \", sv_f1_score)"
      ],
      "execution_count": null,
      "outputs": [
        {
          "output_type": "stream",
          "text": [
            "Support Vector Classification Accuracy:  0.9021333333333333\n",
            "Support Vector Classification Precision:  0.9013376080789182\n",
            "Support Vector Classification Recall:  0.9013376080789182\n",
            "Support Vector Classification F1 Score:  0.9014043150595836\n"
          ],
          "name": "stdout"
        }
      ]
    },
    {
      "cell_type": "markdown",
      "metadata": {
        "id": "q3sf7nzcb0Dp",
        "colab_type": "text"
      },
      "source": [
        "So accuracy for SVC without PCA is: 0.90\n",
        "\n",
        "Now as SVC is taking 15.22 minutes to get trained so now we will apply the same model on train_data_pca (reduced data)"
      ]
    },
    {
      "cell_type": "code",
      "metadata": {
        "id": "J41wVy7gcj7q",
        "colab_type": "code",
        "colab": {
          "base_uri": "https://localhost:8080/",
          "height": 34
        },
        "outputId": "f5ffca81-332d-4894-a8fd-d25b51e39ff2"
      },
      "source": [
        "start1 = time.time()\n",
        "svc = SVC(C=1, kernel='linear', gamma=\"auto\")\n",
        "svc.fit(train_data_pca, train_labels)\n",
        "end1 = time.time()\n",
        "svm_time = end1-start1\n",
        "print(\"SVM Time: {:0.2f} minute\".format(svm_time/60.0))"
      ],
      "execution_count": null,
      "outputs": [
        {
          "output_type": "stream",
          "text": [
            "SVM Time: 7.74 minute\n"
          ],
          "name": "stdout"
        }
      ]
    },
    {
      "cell_type": "code",
      "metadata": {
        "id": "5la2ALvieToH",
        "colab_type": "code",
        "colab": {}
      },
      "source": [
        "# Let us predict all instances of testing dataset test_data_pca using the above trained model\n",
        "train_labels_predict_svc_pca = svc.predict(train_data_pca)"
      ],
      "execution_count": null,
      "outputs": []
    },
    {
      "cell_type": "code",
      "metadata": {
        "id": "7tG1TXaRhCaE",
        "colab_type": "code",
        "colab": {
          "base_uri": "https://localhost:8080/",
          "height": 34
        },
        "outputId": "93f3d4c0-681b-40f1-9895-6a7307545988"
      },
      "source": [
        "train_labels[0]"
      ],
      "execution_count": null,
      "outputs": [
        {
          "output_type": "execute_result",
          "data": {
            "text/plain": [
              "2"
            ]
          },
          "metadata": {
            "tags": []
          },
          "execution_count": 35
        }
      ]
    },
    {
      "cell_type": "code",
      "metadata": {
        "id": "Qj2cGFUbhO_9",
        "colab_type": "code",
        "colab": {
          "base_uri": "https://localhost:8080/",
          "height": 34
        },
        "outputId": "a06e9927-0d4e-4070-85a1-19986ab46235"
      },
      "source": [
        "train_labels_predict_svc_pca[0]"
      ],
      "execution_count": null,
      "outputs": [
        {
          "output_type": "execute_result",
          "data": {
            "text/plain": [
              "2"
            ]
          },
          "metadata": {
            "tags": []
          },
          "execution_count": 36
        }
      ]
    },
    {
      "cell_type": "code",
      "metadata": {
        "id": "cwxPajzQhVmm",
        "colab_type": "code",
        "colab": {
          "base_uri": "https://localhost:8080/",
          "height": 248
        },
        "outputId": "523c8e53-b151-4a81-9610-80108b8e9b52"
      },
      "source": [
        "showImage(train_data_pca_recovered[0])"
      ],
      "execution_count": null,
      "outputs": [
        {
          "output_type": "display_data",
          "data": {
            "image/png": "[encoded data removed]",
            "text/plain": [
              "<Figure size 432x288 with 1 Axes>"
            ]
          },
          "metadata": {
            "tags": [],
            "needs_background": "light"
          }
        }
      ]
    },
    {
      "cell_type": "code",
      "metadata": {
        "id": "9rBcQrWxnFMV",
        "colab_type": "code",
        "colab": {
          "base_uri": "https://localhost:8080/",
          "height": 84
        },
        "outputId": "618cc0dd-c4e5-41e3-ba93-213ffa58aa00"
      },
      "source": [
        "sv_accuracy = accuracy_score(train_labels, train_labels_predict_svc_pca)\n",
        "sv_precision = precision_score(train_labels, train_labels_predict_svc_pca, average='weighted')\n",
        "sv_recall = recall_score(train_labels, train_labels_predict_svc_pca, average='weighted')\n",
        "sv_f1_score = f1_score(train_labels, train_labels_predict_svc_pca, average='weighted')\n",
        "\n",
        "print(\"Support Vector Classification Accuracy: \", sv_accuracy)\n",
        "print(\"Support Vector Classification Precision: \", sv_precision)\n",
        "print(\"Support Vector Classification Recall: \", sv_precision)\n",
        "print(\"Support Vector Classification F1 Score: \", sv_f1_score)"
      ],
      "execution_count": null,
      "outputs": [
        {
          "output_type": "stream",
          "text": [
            "Support Vector Classification Accuracy:  0.8877333333333334\n",
            "Support Vector Classification Precision:  0.886723034231151\n",
            "Support Vector Classification Recall:  0.886723034231151\n",
            "Support Vector Classification F1 Score:  0.8868620446311253\n"
          ],
          "name": "stdout"
        }
      ]
    },
    {
      "cell_type": "markdown",
      "metadata": {
        "id": "k37tiF8zngr6",
        "colab_type": "text"
      },
      "source": [
        "Now as the model takes less time to train the compressed data(train_data_pca) i.e 7 minutes but the accuracy is less. \n",
        "\n",
        "So now we will also check the accuracy of compressed data whether it is less, same or more for the other algorithms also to train the model."
      ]
    },
    {
      "cell_type": "markdown",
      "metadata": {
        "id": "IL8MmMzGNuyQ",
        "colab_type": "text"
      },
      "source": [
        "Now let's try **XGBClassifier**"
      ]
    },
    {
      "cell_type": "code",
      "metadata": {
        "id": "YFUzcNY-xo71",
        "colab_type": "code",
        "colab": {
          "base_uri": "https://localhost:8080/",
          "height": 34
        },
        "outputId": "e6a8df1e-fd3d-47d1-c3f2-4f5577d8302b"
      },
      "source": [
        "start1 = time.time()\n",
        "xgb = XGBClassifier(n_estimators=20, max_depth=10)\n",
        "xgb.fit(scaledX, train_labels)\n",
        "end1 = time.time()\n",
        "xgb_time = end1-start1\n",
        "print(\"XGBClassifier Time: {:0.2f} minute\".format(xgb_time/60.0))"
      ],
      "execution_count": null,
      "outputs": [
        {
          "output_type": "stream",
          "text": [
            "XGBClassifier Time: 12.14 minute\n"
          ],
          "name": "stdout"
        }
      ]
    },
    {
      "cell_type": "code",
      "metadata": {
        "id": "dg_Rw4Fm9yxl",
        "colab_type": "code",
        "colab": {}
      },
      "source": [
        "# Let us predict all instances of training dataset scaledX using the above trained model\n",
        "train_labels_predict_xgb_1 = xgb.predict(scaledX)"
      ],
      "execution_count": null,
      "outputs": []
    },
    {
      "cell_type": "code",
      "metadata": {
        "id": "7LCeTGWA-GyI",
        "colab_type": "code",
        "colab": {
          "base_uri": "https://localhost:8080/",
          "height": 84
        },
        "outputId": "e52411fe-57a9-43b9-f8a8-6cf3dcf87dac"
      },
      "source": [
        "xgb_accuracy = accuracy_score(train_labels, train_labels_predict_xgb_1)\n",
        "xgb_precision = precision_score(train_labels, train_labels_predict_xgb_1, average='weighted')\n",
        "xgb_recall = recall_score(train_labels, train_labels_predict_xgb_1, average='weighted')\n",
        "xgb_f1_score = f1_score(train_labels, train_labels_predict_xgb_1, average='weighted')\n",
        "\n",
        "print(\"XGBoost Classifier Accuracy: \", xgb_accuracy)\n",
        "print(\"XGBoost Classifier Precision: \", xgb_precision)\n",
        "print(\"XGBoost Classifier Recall: \", xgb_precision)\n",
        "print(\"XGBoost Classifier F1 Score: \", xgb_f1_score)"
      ],
      "execution_count": null,
      "outputs": [
        {
          "output_type": "stream",
          "text": [
            "XGBoost Classifier Accuracy:  0.9711\n",
            "XGBoost Classifier Precision:  0.9713436640442754\n",
            "XGBoost Classifier Recall:  0.9713436640442754\n",
            "XGBoost Classifier F1 Score:  0.9710196162951918\n"
          ],
          "name": "stdout"
        }
      ]
    },
    {
      "cell_type": "markdown",
      "metadata": {
        "id": "0MweMvIz-Mlq",
        "colab_type": "text"
      },
      "source": [
        "Now let's do the same for the parameter values (no. of estimators = 100 and max_depth = 50)"
      ]
    },
    {
      "cell_type": "code",
      "metadata": {
        "id": "JJMv9yA3YJQT",
        "colab_type": "code",
        "colab": {
          "base_uri": "https://localhost:8080/",
          "height": 34
        },
        "outputId": "a8ee6c9a-0bf1-4d89-bcba-17aad2ec0acf"
      },
      "source": [
        "start1 = time.time()\n",
        "xgb_clf = XGBClassifier(n_estimators=100, max_depth=50)\n",
        "xgb_clf.fit(scaledX, train_labels)\n",
        "end1 = time.time()\n",
        "xgb_time = end1-start1\n",
        "print(\"XGBClassifier Time: {:0.2f} minute\".format(xgb_time/60.0))"
      ],
      "execution_count": 16,
      "outputs": [
        {
          "output_type": "stream",
          "text": [
            "XGBClassifier Time: 101.53 minute\n"
          ],
          "name": "stdout"
        }
      ]
    },
    {
      "cell_type": "code",
      "metadata": {
        "id": "tK5CrV6-TgKP",
        "colab_type": "code",
        "colab": {}
      },
      "source": [
        "# Let us predict all instances of training dataset scaledX using the above trained model\n",
        "train_labels_predict_xgb = xgb_clf.predict(scaledX)"
      ],
      "execution_count": 17,
      "outputs": []
    },
    {
      "cell_type": "code",
      "metadata": {
        "id": "KxuCsN68sHzg",
        "colab_type": "code",
        "colab": {
          "base_uri": "https://localhost:8080/",
          "height": 34
        },
        "outputId": "672370b8-0369-44c5-e99f-3fa6d8b0309a"
      },
      "source": [
        "train_labels[0]"
      ],
      "execution_count": null,
      "outputs": [
        {
          "output_type": "execute_result",
          "data": {
            "text/plain": [
              "2"
            ]
          },
          "metadata": {
            "tags": []
          },
          "execution_count": 14
        }
      ]
    },
    {
      "cell_type": "code",
      "metadata": {
        "id": "NrBoXNOKw-Pf",
        "colab_type": "code",
        "colab": {
          "base_uri": "https://localhost:8080/",
          "height": 34
        },
        "outputId": "45aa664c-e84b-4998-ad57-ce7545a05cbe"
      },
      "source": [
        "train_labels_predict_xgb[0]"
      ],
      "execution_count": null,
      "outputs": [
        {
          "output_type": "execute_result",
          "data": {
            "text/plain": [
              "2"
            ]
          },
          "metadata": {
            "tags": []
          },
          "execution_count": 15
        }
      ]
    },
    {
      "cell_type": "code",
      "metadata": {
        "id": "OPDIuEX-w-Fk",
        "colab_type": "code",
        "colab": {
          "base_uri": "https://localhost:8080/",
          "height": 248
        },
        "outputId": "82677896-c57c-40b9-e0f7-91443d34b58b"
      },
      "source": [
        "showImage(flattened_train_images[0])"
      ],
      "execution_count": null,
      "outputs": [
        {
          "output_type": "display_data",
          "data": {
            "image/png": "[encoded data removed]",
            "text/plain": [
              "<Figure size 432x288 with 1 Axes>"
            ]
          },
          "metadata": {
            "tags": [],
            "needs_background": "light"
          }
        }
      ]
    },
    {
      "cell_type": "code",
      "metadata": {
        "id": "6YQjSD-sxMzI",
        "colab_type": "code",
        "colab": {
          "base_uri": "https://localhost:8080/",
          "height": 84
        },
        "outputId": "b2b597c4-236a-4fcb-f81a-3c99d94e78a9"
      },
      "source": [
        "xgb_accuracy = accuracy_score(train_labels, train_labels_predict_xgb)\n",
        "xgb_precision = precision_score(train_labels, train_labels_predict_xgb, average='weighted')\n",
        "xgb_recall = recall_score(train_labels, train_labels_predict_xgb, average='weighted')\n",
        "xgb_f1_score = f1_score(train_labels, train_labels_predict_xgb, average='weighted')\n",
        "\n",
        "print(\"XGBoost Classifier Accuracy: \", xgb_accuracy)\n",
        "print(\"XGBoost Classifier Precision: \", xgb_precision)\n",
        "print(\"XGBoost Classifier Recall: \", xgb_precision)\n",
        "print(\"XGBoost Classifier F1 Score: \", xgb_f1_score)"
      ],
      "execution_count": null,
      "outputs": [
        {
          "output_type": "stream",
          "text": [
            "XGBoost Classifier Accuracy:  1.0\n",
            "XGBoost Classifier Precision:  1.0\n",
            "XGBoost Classifier Recall:  1.0\n",
            "XGBoost Classifier F1 Score:  1.0\n"
          ],
          "name": "stdout"
        }
      ]
    },
    {
      "cell_type": "markdown",
      "metadata": {
        "id": "48TkqkE6DFVB",
        "colab_type": "text"
      },
      "source": [
        "Earlier XGBoostClassifier with no. of estimators as 20 and max_depth as 10 gives accuracy 0.97.\n",
        "\n",
        "Now for the same XGBoostClassifier with no. of estimators as 100 and max_depth as 50 we got accuracy of 1.0.\n",
        "\n",
        "From this we conclude that, by increasing the no. of estimators and max_depth, we are getting better scores.\n",
        "\n",
        "So for the other algorithms we will use n_estimators = 100 and max_depth = 50"
      ]
    },
    {
      "cell_type": "markdown",
      "metadata": {
        "id": "0XFEgEH9B-z6",
        "colab_type": "text"
      },
      "source": [
        "Now let's do the same for compressed data(train_data_pca)and check it's accuracy."
      ]
    },
    {
      "cell_type": "code",
      "metadata": {
        "id": "_8clbyZZB_9l",
        "colab_type": "code",
        "colab": {
          "base_uri": "https://localhost:8080/",
          "height": 34
        },
        "outputId": "e36fb07f-3a39-408a-d8fe-a22280045276"
      },
      "source": [
        "start1 = time.time()\n",
        "xgb_clf = XGBClassifier(n_estimators=100, max_depth=50)\n",
        "xgb_clf.fit(train_data_pca, train_labels)\n",
        "end1 = time.time()\n",
        "xgb_time = end1-start1\n",
        "print(\"XGBClassifier Time: {:0.2f} minute\".format(xgb_time/60.0))"
      ],
      "execution_count": null,
      "outputs": [
        {
          "output_type": "stream",
          "text": [
            "XGBClassifier Time: 107.75 minute\n"
          ],
          "name": "stdout"
        }
      ]
    },
    {
      "cell_type": "code",
      "metadata": {
        "id": "nRMq7C-lCLJj",
        "colab_type": "code",
        "colab": {}
      },
      "source": [
        "# Let us predict all instances of training dataset train_data_pca using the above trained model\n",
        "train_labels_predict_xgb_pca = xgb_clf.predict(train_data_pca)"
      ],
      "execution_count": null,
      "outputs": []
    },
    {
      "cell_type": "code",
      "metadata": {
        "id": "vBrUDsguCRKw",
        "colab_type": "code",
        "colab": {
          "base_uri": "https://localhost:8080/",
          "height": 84
        },
        "outputId": "3a9d0719-699a-478b-85ba-48a53f8c4d4c"
      },
      "source": [
        "xgb_accuracy = accuracy_score(train_labels, train_labels_predict_xgb_pca)\n",
        "xgb_precision = precision_score(train_labels, train_labels_predict_xgb_pca, average='weighted')\n",
        "xgb_recall = recall_score(train_labels, train_labels_predict_xgb_pca, average='weighted')\n",
        "xgb_f1_score = f1_score(train_labels, train_labels_predict_xgb_pca, average='weighted')\n",
        "\n",
        "print(\"XGBoost Classifier Accuracy: \", xgb_accuracy)\n",
        "print(\"XGBoost Classifier Precision: \", xgb_precision)\n",
        "print(\"XGBoost Classifier Recall: \", xgb_precision)\n",
        "print(\"XGBoost Classifier F1 Score: \", xgb_f1_score)"
      ],
      "execution_count": null,
      "outputs": [
        {
          "output_type": "stream",
          "text": [
            "XGBoost Classifier Accuracy:  1.0\n",
            "XGBoost Classifier Precision:  1.0\n",
            "XGBoost Classifier Recall:  1.0\n",
            "XGBoost Classifier F1 Score:  1.0\n"
          ],
          "name": "stdout"
        }
      ]
    },
    {
      "cell_type": "markdown",
      "metadata": {
        "id": "YmOsfL4d0xeH",
        "colab_type": "text"
      },
      "source": [
        "Now let's try **DecisionTreeClassifier** \n"
      ]
    },
    {
      "cell_type": "code",
      "metadata": {
        "id": "WRKNL1BYnjms",
        "colab_type": "code",
        "colab": {
          "base_uri": "https://localhost:8080/",
          "height": 34
        },
        "outputId": "3df0cf13-4531-4b84-a889-42f12869b480"
      },
      "source": [
        "start1 = time.time()\n",
        "dec_tree_clf = DecisionTreeClassifier(max_depth=50)\n",
        "dec_tree_clf.fit(scaledX,train_labels)\n",
        "end1 = time.time()\n",
        "dec_time = end1-start1\n",
        "print(\"DecisionTreeClassifier Time: {:0.2f} minute\".format(dec_time/60.0))"
      ],
      "execution_count": null,
      "outputs": [
        {
          "output_type": "stream",
          "text": [
            "DecisionTreeClassifier Time: 0.84 minute\n"
          ],
          "name": "stdout"
        }
      ]
    },
    {
      "cell_type": "code",
      "metadata": {
        "id": "O8siIX_-n2ab",
        "colab_type": "code",
        "colab": {}
      },
      "source": [
        "# Let us predict all instances of training dataset scaledX using the above trained model\n",
        "train_labels_predict_dec = dec_tree_clf.predict(scaledX)"
      ],
      "execution_count": null,
      "outputs": []
    },
    {
      "cell_type": "code",
      "metadata": {
        "id": "MFvGZAwXn9eL",
        "colab_type": "code",
        "colab": {
          "base_uri": "https://localhost:8080/",
          "height": 34
        },
        "outputId": "726b91b4-d6c5-4c7f-a69a-a4694d3e363d"
      },
      "source": [
        "train_labels[0]"
      ],
      "execution_count": null,
      "outputs": [
        {
          "output_type": "execute_result",
          "data": {
            "text/plain": [
              "2"
            ]
          },
          "metadata": {
            "tags": []
          },
          "execution_count": 69
        }
      ]
    },
    {
      "cell_type": "code",
      "metadata": {
        "id": "m6LI0kwHoA7z",
        "colab_type": "code",
        "colab": {
          "base_uri": "https://localhost:8080/",
          "height": 34
        },
        "outputId": "89ad745d-4e0a-4b72-9eeb-6bf71375e3ae"
      },
      "source": [
        "train_labels_predict_dec[0]"
      ],
      "execution_count": null,
      "outputs": [
        {
          "output_type": "execute_result",
          "data": {
            "text/plain": [
              "2"
            ]
          },
          "metadata": {
            "tags": []
          },
          "execution_count": 70
        }
      ]
    },
    {
      "cell_type": "code",
      "metadata": {
        "id": "scSptUKroFBh",
        "colab_type": "code",
        "colab": {
          "base_uri": "https://localhost:8080/",
          "height": 248
        },
        "outputId": "892ab0c3-df77-4fa2-e565-e5b77bed1883"
      },
      "source": [
        "showImage(flattened_train_images[0])"
      ],
      "execution_count": null,
      "outputs": [
        {
          "output_type": "display_data",
          "data": {
            "image/png": "[encoded data removed]",
            "text/plain": [
              "<Figure size 432x288 with 1 Axes>"
            ]
          },
          "metadata": {
            "tags": [],
            "needs_background": "light"
          }
        }
      ]
    },
    {
      "cell_type": "code",
      "metadata": {
        "id": "uiiroyAdoXpS",
        "colab_type": "code",
        "colab": {
          "base_uri": "https://localhost:8080/",
          "height": 84
        },
        "outputId": "ec84ded1-835a-4a78-dbd8-28eb5b185e03"
      },
      "source": [
        "dt_accuracy = accuracy_score(train_labels, train_labels_predict_dec)\n",
        "dt_precision = precision_score(train_labels, train_labels_predict_dec, average='weighted')\n",
        "dt_recall = recall_score(train_labels, train_labels_predict_dec, average='weighted')\n",
        "dt_f1_score = f1_score(train_labels, train_labels_predict_dec, average='weighted')\n",
        "\n",
        "print(\"Decision Tree Accuracy: \", dt_accuracy)\n",
        "print(\"Decision Tree Precision: \", dt_precision)\n",
        "print(\"Decision Tree Recall: \", dt_precision)\n",
        "print(\"Decision Tree F1 Score: \", dt_f1_score)"
      ],
      "execution_count": null,
      "outputs": [
        {
          "output_type": "stream",
          "text": [
            "Decision Tree Accuracy:  1.0\n",
            "Decision Tree Precision:  1.0\n",
            "Decision Tree Recall:  1.0\n",
            "Decision Tree F1 Score:  1.0\n"
          ],
          "name": "stdout"
        }
      ]
    },
    {
      "cell_type": "markdown",
      "metadata": {
        "id": "GovX-jGFokfa",
        "colab_type": "text"
      },
      "source": [
        "Now let's do the same for compressed data(train_data_pca)and check it's accuracy.\n",
        "\n"
      ]
    },
    {
      "cell_type": "code",
      "metadata": {
        "id": "JnwnyNQA0wx0",
        "colab_type": "code",
        "colab": {
          "base_uri": "https://localhost:8080/",
          "height": 34
        },
        "outputId": "79e423a4-ab44-466a-e37e-b6254b2d5e47"
      },
      "source": [
        "start1 = time.time()\n",
        "dec_tree_clf = DecisionTreeClassifier(max_depth=50)\n",
        "dec_tree_clf.fit(train_data_pca,train_labels)\n",
        "end1 = time.time()\n",
        "dec_time = end1-start1\n",
        "print(\"DecisionTreeClassifier Time: {:0.2f} minute\".format(dec_time/60.0))"
      ],
      "execution_count": null,
      "outputs": [
        {
          "output_type": "stream",
          "text": [
            "DecisionTreeClassifier Time: 1.21 minute\n"
          ],
          "name": "stdout"
        }
      ]
    },
    {
      "cell_type": "code",
      "metadata": {
        "id": "nYY5kUvJJpk2",
        "colab_type": "code",
        "colab": {}
      },
      "source": [
        "# Let us predict all instances of training dataset train_data_pca using the above trained model\n",
        "train_labels_predict_dec_pca = dec_tree_clf.predict(train_data_pca)"
      ],
      "execution_count": null,
      "outputs": []
    },
    {
      "cell_type": "code",
      "metadata": {
        "id": "UFYDjWuOv5UC",
        "colab_type": "code",
        "colab": {
          "base_uri": "https://localhost:8080/",
          "height": 84
        },
        "outputId": "133df629-15da-42b9-9427-406b5b336827"
      },
      "source": [
        "dt_accuracy = accuracy_score(train_labels, train_labels_predict_dec_pca)\n",
        "dt_precision = precision_score(train_labels, train_labels_predict_dec_pca, average='weighted')\n",
        "dt_recall = recall_score(train_labels, train_labels_predict_dec_pca, average='weighted')\n",
        "dt_f1_score = f1_score(train_labels, train_labels_predict_dec_pca, average='weighted')\n",
        "\n",
        "print(\"Decision Tree Accuracy: \", dt_accuracy)\n",
        "print(\"Decision Tree Precision: \", dt_precision)\n",
        "print(\"Decision Tree Recall: \", dt_precision)\n",
        "print(\"Decision Tree F1 Score: \", dt_f1_score)"
      ],
      "execution_count": null,
      "outputs": [
        {
          "output_type": "stream",
          "text": [
            "Decision Tree Accuracy:  0.9998666666666667\n",
            "Decision Tree Precision:  0.999866844207723\n",
            "Decision Tree Recall:  0.999866844207723\n",
            "Decision Tree F1 Score:  0.9998666666074074\n"
          ],
          "name": "stdout"
        }
      ]
    },
    {
      "cell_type": "markdown",
      "metadata": {
        "id": "W-3eM-z411Mq",
        "colab_type": "text"
      },
      "source": [
        "Now let's try **RandomForestClassifier**"
      ]
    },
    {
      "cell_type": "code",
      "metadata": {
        "id": "PKfQRorDoo3B",
        "colab_type": "code",
        "colab": {
          "base_uri": "https://localhost:8080/",
          "height": 34
        },
        "outputId": "abe8a35d-51db-4cee-f086-99d61f826b94"
      },
      "source": [
        "start1 = time.time()\n",
        "rnd_clf = RandomForestClassifier(n_estimators=100, max_depth=50)\n",
        "rnd_clf.fit(scaledX,train_labels)\n",
        "end1 = time.time()\n",
        "rnd_time = end1-start1\n",
        "print(\"RandomForestClassifier Time: {:0.2f} minute\".format(rnd_time/60.0))"
      ],
      "execution_count": null,
      "outputs": [
        {
          "output_type": "stream",
          "text": [
            "RandomForestClassifier Time: 1.72 minute\n"
          ],
          "name": "stdout"
        }
      ]
    },
    {
      "cell_type": "code",
      "metadata": {
        "id": "F2br1qDIpK04",
        "colab_type": "code",
        "colab": {}
      },
      "source": [
        "# Let us predict all instances of training dataset scaledX using the above trained model\n",
        "train_labels_predict_rnd = rnd_clf.predict(scaledX)"
      ],
      "execution_count": null,
      "outputs": []
    },
    {
      "cell_type": "code",
      "metadata": {
        "id": "Xo0ntHO8pXDj",
        "colab_type": "code",
        "colab": {
          "base_uri": "https://localhost:8080/",
          "height": 34
        },
        "outputId": "f4fb14ef-3aec-4f29-8bc8-22d256aafcd4"
      },
      "source": [
        "train_labels[0]"
      ],
      "execution_count": null,
      "outputs": [
        {
          "output_type": "execute_result",
          "data": {
            "text/plain": [
              "2"
            ]
          },
          "metadata": {
            "tags": []
          },
          "execution_count": 83
        }
      ]
    },
    {
      "cell_type": "code",
      "metadata": {
        "id": "Vlq5P_d0pa81",
        "colab_type": "code",
        "colab": {
          "base_uri": "https://localhost:8080/",
          "height": 34
        },
        "outputId": "dcfb4dca-963a-4aae-dccb-67276d0e6eff"
      },
      "source": [
        "train_labels_predict_rnd[0]"
      ],
      "execution_count": null,
      "outputs": [
        {
          "output_type": "execute_result",
          "data": {
            "text/plain": [
              "2"
            ]
          },
          "metadata": {
            "tags": []
          },
          "execution_count": 84
        }
      ]
    },
    {
      "cell_type": "code",
      "metadata": {
        "id": "0JZduj0IpfAl",
        "colab_type": "code",
        "colab": {
          "base_uri": "https://localhost:8080/",
          "height": 248
        },
        "outputId": "278067d2-061a-4908-aafa-8118b1a85152"
      },
      "source": [
        "showImage(flattened_train_images[0])"
      ],
      "execution_count": null,
      "outputs": [
        {
          "output_type": "display_data",
          "data": {
            "image/png": "[encoded data removed]",
            "text/plain": [
              "<Figure size 432x288 with 1 Axes>"
            ]
          },
          "metadata": {
            "tags": [],
            "needs_background": "light"
          }
        }
      ]
    },
    {
      "cell_type": "code",
      "metadata": {
        "id": "XNxR7kDlp46E",
        "colab_type": "code",
        "colab": {
          "base_uri": "https://localhost:8080/",
          "height": 84
        },
        "outputId": "24ad1852-6308-408b-d58c-d011e46a0447"
      },
      "source": [
        "rf_accuracy = accuracy_score(train_labels, train_labels_predict_rnd)\n",
        "rf_precision = precision_score(train_labels, train_labels_predict_rnd, average='weighted')\n",
        "rf_recall = recall_score(train_labels, train_labels_predict_rnd, average='weighted')\n",
        "rf_f1_score = f1_score(train_labels, train_labels_predict_rnd, average='weighted')\n",
        "\n",
        "print(\"RandomForestClassifier Accuracy: \", rf_accuracy)\n",
        "print(\"RandomForestClassifier Precision: \", rf_precision)\n",
        "print(\"RandomForestClassifier Recall: \", rf_precision)\n",
        "print(\"RandomForestClassifier F1 Score: \", rf_f1_score)"
      ],
      "execution_count": null,
      "outputs": [
        {
          "output_type": "stream",
          "text": [
            "RandomForestClassifier Accuracy:  1.0\n",
            "RandomForestClassifier Precision:  1.0\n",
            "RandomForestClassifier Recall:  1.0\n",
            "RandomForestClassifier F1 Score:  1.0\n"
          ],
          "name": "stdout"
        }
      ]
    },
    {
      "cell_type": "markdown",
      "metadata": {
        "id": "8K9tkoCZqFoL",
        "colab_type": "text"
      },
      "source": [
        "Now let's do the same for compressed data(train_data_pca)and check it's accuracy."
      ]
    },
    {
      "cell_type": "code",
      "metadata": {
        "id": "5a72XOrl1-4_",
        "colab_type": "code",
        "colab": {
          "base_uri": "https://localhost:8080/",
          "height": 34
        },
        "outputId": "780506a2-042a-4491-b090-c431d8625777"
      },
      "source": [
        "start1 = time.time()\n",
        "rnd_clf = RandomForestClassifier(n_estimators=100, max_depth=50)\n",
        "rnd_clf.fit(train_data_pca,train_labels)\n",
        "end1 = time.time()\n",
        "rnd_time = end1-start1\n",
        "print(\"RandomForestClassifier Time: {:0.2f} minute\".format(rnd_time/60.0))"
      ],
      "execution_count": null,
      "outputs": [
        {
          "output_type": "stream",
          "text": [
            "RandomForestClassifier Time: 3.05 minute\n"
          ],
          "name": "stdout"
        }
      ]
    },
    {
      "cell_type": "code",
      "metadata": {
        "id": "XC2B1revJ6w0",
        "colab_type": "code",
        "colab": {}
      },
      "source": [
        "# Let us predict all instances of training dataset train_data_pca using the above trained model\n",
        "train_labels_predict_rnd_pca = rnd_clf.predict(train_data_pca)"
      ],
      "execution_count": null,
      "outputs": []
    },
    {
      "cell_type": "code",
      "metadata": {
        "id": "Ohd1AwAIxrRn",
        "colab_type": "code",
        "colab": {
          "base_uri": "https://localhost:8080/",
          "height": 84
        },
        "outputId": "e2b71bab-aea0-4feb-de5c-5cdb305610f9"
      },
      "source": [
        "rf_accuracy = accuracy_score(train_labels, train_labels_predict_rnd_pca)\n",
        "rf_precision = precision_score(train_labels, train_labels_predict_rnd_pca, average='weighted')\n",
        "rf_recall = recall_score(train_labels, train_labels_predict_rnd_pca, average='weighted')\n",
        "rf_f1_score = f1_score(train_labels, train_labels_predict_rnd_pca, average='weighted')\n",
        "\n",
        "print(\"RandomForestClassifier Accuracy: \", rf_accuracy)\n",
        "print(\"RandomForestClassifier Precision: \", rf_precision)\n",
        "print(\"RandomForestClassifier Recall: \", rf_precision)\n",
        "print(\"RandomForestClassifier F1 Score: \", rf_f1_score)"
      ],
      "execution_count": null,
      "outputs": [
        {
          "output_type": "stream",
          "text": [
            "RandomForestClassifier Accuracy:  1.0\n",
            "RandomForestClassifier Precision:  1.0\n",
            "RandomForestClassifier Recall:  1.0\n",
            "RandomForestClassifier F1 Score:  1.0\n"
          ],
          "name": "stdout"
        }
      ]
    },
    {
      "cell_type": "markdown",
      "metadata": {
        "id": "Rfy-9Xyp_s1J",
        "colab_type": "text"
      },
      "source": [
        "Now let's try **Logistic Regression**\n",
        "\n"
      ]
    },
    {
      "cell_type": "code",
      "metadata": {
        "id": "kopUribT_v2z",
        "colab_type": "code",
        "colab": {
          "base_uri": "https://localhost:8080/",
          "height": 34
        },
        "outputId": "2f04dad5-7fcc-41fc-e652-7fd57a0e45b7"
      },
      "source": [
        "start1 = time.time()\n",
        "log_clf = LogisticRegression(multi_class=\"multinomial\", solver=\"lbfgs\", C=10)\n",
        "log_clf.fit(scaledX,train_labels)\n",
        "end1 = time.time()\n",
        "lr_time = end1-start1\n",
        "print(\"Logistic Regression Time: {:0.2f} minute\".format(lr_time/60.0))"
      ],
      "execution_count": null,
      "outputs": [
        {
          "output_type": "stream",
          "text": [
            "Logistic Regression Time: 0.56 minute\n"
          ],
          "name": "stdout"
        }
      ]
    },
    {
      "cell_type": "code",
      "metadata": {
        "id": "LkXvemiq_0KE",
        "colab_type": "code",
        "colab": {}
      },
      "source": [
        "# Let us predict all instances of training dataset scaledX using the above trained model\n",
        "train_labels_predict_log = log_clf.predict(scaledX)"
      ],
      "execution_count": null,
      "outputs": []
    },
    {
      "cell_type": "code",
      "metadata": {
        "id": "HE_EZDmF_8ni",
        "colab_type": "code",
        "colab": {
          "base_uri": "https://localhost:8080/",
          "height": 34
        },
        "outputId": "6b68dda8-16ae-4969-d7f7-79f6c080c739"
      },
      "source": [
        "train_labels[0]"
      ],
      "execution_count": null,
      "outputs": [
        {
          "output_type": "execute_result",
          "data": {
            "text/plain": [
              "2"
            ]
          },
          "metadata": {
            "tags": []
          },
          "execution_count": 20
        }
      ]
    },
    {
      "cell_type": "code",
      "metadata": {
        "id": "IAQvpowN_88r",
        "colab_type": "code",
        "colab": {
          "base_uri": "https://localhost:8080/",
          "height": 34
        },
        "outputId": "b5c7e611-5f92-4e45-c6c5-266c42de4071"
      },
      "source": [
        "train_labels_predict_log[0]"
      ],
      "execution_count": null,
      "outputs": [
        {
          "output_type": "execute_result",
          "data": {
            "text/plain": [
              "2"
            ]
          },
          "metadata": {
            "tags": []
          },
          "execution_count": 22
        }
      ]
    },
    {
      "cell_type": "code",
      "metadata": {
        "id": "EWpmZBUT__Wl",
        "colab_type": "code",
        "colab": {
          "base_uri": "https://localhost:8080/",
          "height": 248
        },
        "outputId": "e6752f76-5db4-45ba-a00a-fd22da4034ee"
      },
      "source": [
        "showImage(flattened_train_images[0])"
      ],
      "execution_count": null,
      "outputs": [
        {
          "output_type": "display_data",
          "data": {
            "image/png": "[encoded data removed]",
            "text/plain": [
              "<Figure size 432x288 with 1 Axes>"
            ]
          },
          "metadata": {
            "tags": [],
            "needs_background": "light"
          }
        }
      ]
    },
    {
      "cell_type": "code",
      "metadata": {
        "id": "E1TUmguRAMQ4",
        "colab_type": "code",
        "colab": {
          "base_uri": "https://localhost:8080/",
          "height": 84
        },
        "outputId": "54a69fab-f0c6-4b7f-cd69-fe6d486f42df"
      },
      "source": [
        "lr_accuracy = accuracy_score(train_labels, train_labels_predict_log)\n",
        "lr_precision = precision_score(train_labels, train_labels_predict_log, average='weighted')\n",
        "lr_recall = recall_score(train_labels, train_labels_predict_log, average='weighted')\n",
        "lr_f1_score = f1_score(train_labels, train_labels_predict_log, average='weighted')\n",
        "\n",
        "print(\"Logistic Regression Accuracy: \", lr_accuracy)\n",
        "print(\"Logistic Regression Precision: \", lr_precision)\n",
        "print(\"Logistic Regression Recall: \", lr_precision)\n",
        "print(\"Logistic Regression F1 Score: \", lr_f1_score)"
      ],
      "execution_count": null,
      "outputs": [
        {
          "output_type": "stream",
          "text": [
            "Logistic Regression Accuracy:  0.86545\n",
            "Logistic Regression Precision:  0.8646161323349661\n",
            "Logistic Regression Recall:  0.8646161323349661\n",
            "Logistic Regression F1 Score:  0.8647433809831785\n"
          ],
          "name": "stdout"
        }
      ]
    },
    {
      "cell_type": "markdown",
      "metadata": {
        "id": "JYvUsLTuAYYQ",
        "colab_type": "text"
      },
      "source": [
        "Now let's do the same for compressed data(train_data_pca)and check it's accuracy.\n",
        "\n"
      ]
    },
    {
      "cell_type": "code",
      "metadata": {
        "id": "Kn2hvZQjAe6X",
        "colab_type": "code",
        "colab": {
          "base_uri": "https://localhost:8080/",
          "height": 34
        },
        "outputId": "7bbf0771-2d75-4863-bdc4-31ec7ccce9d4"
      },
      "source": [
        "start1 = time.time()\n",
        "log_clf = LogisticRegression(multi_class=\"multinomial\", solver=\"lbfgs\", C=10)\n",
        "log_clf.fit(train_data_pca,train_labels)\n",
        "end1 = time.time()\n",
        "lr_time = end1-start1\n",
        "print(\"Logistic Regression Time: {:0.2f} minute\".format(lr_time/60.0))"
      ],
      "execution_count": null,
      "outputs": [
        {
          "output_type": "stream",
          "text": [
            "Logistic Regression Time: 0.37 minute\n"
          ],
          "name": "stdout"
        }
      ]
    },
    {
      "cell_type": "code",
      "metadata": {
        "id": "oIzrx5KCAkHU",
        "colab_type": "code",
        "colab": {}
      },
      "source": [
        "# Let us predict all instances of training dataset train_data_pca using the above trained model\n",
        "train_labels_predict_log_pca = log_clf.predict(train_data_pca)"
      ],
      "execution_count": null,
      "outputs": []
    },
    {
      "cell_type": "code",
      "metadata": {
        "id": "OxNRYJG-AoSi",
        "colab_type": "code",
        "colab": {
          "base_uri": "https://localhost:8080/",
          "height": 84
        },
        "outputId": "6e7d34fd-e624-44d2-c4ce-7300c0b2d7b8"
      },
      "source": [
        "lr_accuracy = accuracy_score(train_labels, train_labels_predict_log_pca)\n",
        "lr_precision = precision_score(train_labels, train_labels_predict_log_pca, average='weighted')\n",
        "lr_recall = recall_score(train_labels, train_labels_predict_log_pca, average='weighted')\n",
        "lr_f1_score = f1_score(train_labels, train_labels_predict_log_pca, average='weighted')\n",
        "\n",
        "print(\"Logistic Regression Accuracy: \", lr_accuracy)\n",
        "print(\"Logistic Regression Precision: \", lr_precision)\n",
        "print(\"Logistic Regression Recall: \", lr_precision)\n",
        "print(\"Logistic Regression F1 Score: \", lr_f1_score)"
      ],
      "execution_count": null,
      "outputs": [
        {
          "output_type": "stream",
          "text": [
            "Logistic Regression Accuracy:  0.8679\n",
            "Logistic Regression Precision:  0.8669411460883353\n",
            "Logistic Regression Recall:  0.8669411460883353\n",
            "Logistic Regression F1 Score:  0.8672207889121059\n"
          ],
          "name": "stdout"
        }
      ]
    },
    {
      "cell_type": "markdown",
      "metadata": {
        "id": "baUiLXNvB5fU",
        "colab_type": "text"
      },
      "source": [
        "Now let's try **Ensemble with soft voting**"
      ]
    },
    {
      "cell_type": "code",
      "metadata": {
        "id": "Pis9SfUhqLbu",
        "colab_type": "code",
        "colab": {
          "base_uri": "https://localhost:8080/",
          "height": 34
        },
        "outputId": "7617bcee-64ca-4637-886b-272ba7841897"
      },
      "source": [
        "start1 = time.time()\n",
        "log_clf_ens = LogisticRegression(multi_class=\"multinomial\", solver=\"lbfgs\", C=10)\n",
        "rnd_clf_ens = RandomForestClassifier(n_estimators=100, max_depth=50)\n",
        "voting_clf = VotingClassifier(\n",
        "    estimators=[('lr', log_clf_ens), ('rf', rnd_clf_ens)],\n",
        "    voting='soft')\n",
        "voting_clf.fit(scaledX, train_labels)\n",
        "end1 = time.time()\n",
        "ens_time = end1-start1\n",
        "print(\"Ensemble with soft voting Time: {:0.2f} minute\".format(ens_time/60.0))"
      ],
      "execution_count": null,
      "outputs": [
        {
          "output_type": "stream",
          "text": [
            "Ensemble with soft voting Time: 2.29 minute\n"
          ],
          "name": "stdout"
        }
      ]
    },
    {
      "cell_type": "code",
      "metadata": {
        "id": "LXkWF7uLq-Q8",
        "colab_type": "code",
        "colab": {}
      },
      "source": [
        "# Let us predict all instances of training dataset scaledX using the above trained model\n",
        "train_labels_predict_ens = voting_clf.predict(scaledX)"
      ],
      "execution_count": null,
      "outputs": []
    },
    {
      "cell_type": "code",
      "metadata": {
        "id": "R7wipMLNrFo8",
        "colab_type": "code",
        "colab": {
          "base_uri": "https://localhost:8080/",
          "height": 34
        },
        "outputId": "b4eb1efc-8fef-451c-d68e-a1ce275e663d"
      },
      "source": [
        "train_labels[0]"
      ],
      "execution_count": null,
      "outputs": [
        {
          "output_type": "execute_result",
          "data": {
            "text/plain": [
              "2"
            ]
          },
          "metadata": {
            "tags": []
          },
          "execution_count": 98
        }
      ]
    },
    {
      "cell_type": "code",
      "metadata": {
        "id": "5UGHXlzsrIux",
        "colab_type": "code",
        "colab": {
          "base_uri": "https://localhost:8080/",
          "height": 34
        },
        "outputId": "7936fc69-8299-4cba-b745-cca3a39f4510"
      },
      "source": [
        "train_labels_predict_ens[0]"
      ],
      "execution_count": null,
      "outputs": [
        {
          "output_type": "execute_result",
          "data": {
            "text/plain": [
              "2"
            ]
          },
          "metadata": {
            "tags": []
          },
          "execution_count": 99
        }
      ]
    },
    {
      "cell_type": "code",
      "metadata": {
        "id": "E1pv7JtDrPHe",
        "colab_type": "code",
        "colab": {
          "base_uri": "https://localhost:8080/",
          "height": 248
        },
        "outputId": "91e0f690-24c2-4dde-ae28-da9544b8e214"
      },
      "source": [
        "showImage(flattened_train_images[0])"
      ],
      "execution_count": null,
      "outputs": [
        {
          "output_type": "display_data",
          "data": {
            "image/png": "[encoded data removed]",
            "text/plain": [
              "<Figure size 432x288 with 1 Axes>"
            ]
          },
          "metadata": {
            "tags": [],
            "needs_background": "light"
          }
        }
      ]
    },
    {
      "cell_type": "code",
      "metadata": {
        "id": "ffhc-iO0rh9c",
        "colab_type": "code",
        "colab": {
          "base_uri": "https://localhost:8080/",
          "height": 84
        },
        "outputId": "9f6248dd-c1cc-442b-c9ad-a3bc55262783"
      },
      "source": [
        "ens_accuracy = accuracy_score(train_labels, train_labels_predict_ens)\n",
        "ens_precision = precision_score(train_labels, train_labels_predict_ens, average='weighted')\n",
        "ens_recall = recall_score(train_labels, train_labels_predict_ens, average='weighted')\n",
        "ens_f1_score = f1_score(train_labels, train_labels_predict_ens, average='weighted')\n",
        "\n",
        "print(\"Ensemble with soft voting Accuracy: \", ens_accuracy)\n",
        "print(\"Ensemble with soft voting Precision: \", ens_precision)\n",
        "print(\"Ensemble with soft voting Recall: \", ens_precision)\n",
        "print(\"Ensemble with soft voting F1 Score: \", ens_f1_score)"
      ],
      "execution_count": null,
      "outputs": [
        {
          "output_type": "stream",
          "text": [
            "Ensemble with soft voting Accuracy:  0.9606333333333333\n",
            "Ensemble with soft voting Precision:  0.9607961660804476\n",
            "Ensemble with soft voting Recall:  0.9607961660804476\n",
            "Ensemble with soft voting F1 Score:  0.9605015310861079\n"
          ],
          "name": "stdout"
        }
      ]
    },
    {
      "cell_type": "markdown",
      "metadata": {
        "id": "q2_dXi-crpKD",
        "colab_type": "text"
      },
      "source": [
        "Now let's do the same for compressed data(train_data_pca)and check it's accuracy.\n",
        "\n"
      ]
    },
    {
      "cell_type": "code",
      "metadata": {
        "id": "OlXG4z8bB_jm",
        "colab_type": "code",
        "colab": {
          "base_uri": "https://localhost:8080/",
          "height": 34
        },
        "outputId": "c7fa70b4-398f-413d-ec42-6b58330fddb7"
      },
      "source": [
        "start1 = time.time()\n",
        "log_clf_ens = LogisticRegression(multi_class=\"multinomial\", solver=\"lbfgs\", C=10)\n",
        "rnd_clf_ens = RandomForestClassifier(n_estimators=100, max_depth=50)\n",
        "voting_clf = VotingClassifier(\n",
        "    estimators=[('lr', log_clf_ens), ('rf', rnd_clf_ens)],\n",
        "    voting='soft')\n",
        "voting_clf.fit(train_data_pca, train_labels)\n",
        "end1 = time.time()\n",
        "ens_time = end1-start1\n",
        "print(\"Ensemble with soft voting Time: {:0.2f} minute\".format(ens_time/60.0))"
      ],
      "execution_count": null,
      "outputs": [
        {
          "output_type": "stream",
          "text": [
            "Ensemble with soft voting Time: 3.24 minute\n"
          ],
          "name": "stdout"
        }
      ]
    },
    {
      "cell_type": "code",
      "metadata": {
        "id": "XtGVd17zKNIJ",
        "colab_type": "code",
        "colab": {}
      },
      "source": [
        "# Let us predict all instances of training dataset train_data_pca using the above trained model\n",
        "train_labels_predict_ens_pca = voting_clf.predict(train_data_pca)"
      ],
      "execution_count": null,
      "outputs": []
    },
    {
      "cell_type": "code",
      "metadata": {
        "id": "Lyrdrrzu0jS4",
        "colab_type": "code",
        "colab": {
          "base_uri": "https://localhost:8080/",
          "height": 84
        },
        "outputId": "359233f4-2b79-4452-bf0e-1c3822cf708d"
      },
      "source": [
        "ens_accuracy = accuracy_score(train_labels, train_labels_predict_ens_pca)\n",
        "ens_precision = precision_score(train_labels, train_labels_predict_ens_pca, average='weighted')\n",
        "ens_recall = recall_score(train_labels, train_labels_predict_ens_pca, average='weighted')\n",
        "ens_f1_score = f1_score(train_labels, train_labels_predict_ens_pca, average='weighted')\n",
        "\n",
        "print(\"Ensemble with soft voting Accuracy: \", ens_accuracy)\n",
        "print(\"Ensemble with soft voting Precision: \", ens_precision)\n",
        "print(\"Ensemble with soft voting Recall: \", ens_precision)\n",
        "print(\"Ensemble with soft voting F1 Score: \", ens_f1_score)"
      ],
      "execution_count": null,
      "outputs": [
        {
          "output_type": "stream",
          "text": [
            "Ensemble with soft voting Accuracy:  0.96275\n",
            "Ensemble with soft voting Precision:  0.9628591698309875\n",
            "Ensemble with soft voting Recall:  0.9628591698309875\n",
            "Ensemble with soft voting F1 Score:  0.9626291139961498\n"
          ],
          "name": "stdout"
        }
      ]
    },
    {
      "cell_type": "markdown",
      "metadata": {
        "id": "jPMqyp1wTiTr",
        "colab_type": "text"
      },
      "source": [
        "As we seen above, compressed data (train_data_pca) is taking more time to train except SVC and also for some models accuracy is little bit less."
      ]
    },
    {
      "cell_type": "markdown",
      "metadata": {
        "id": "FTyGYG_US_Hf",
        "colab_type": "text"
      },
      "source": [
        "Hence we conclude that we will use the original data i.e. scaledX for testing the models."
      ]
    },
    {
      "cell_type": "markdown",
      "metadata": {
        "id": "aKRzc6YuTzGu",
        "colab_type": "text"
      },
      "source": [
        "# Evaluate the model"
      ]
    },
    {
      "cell_type": "markdown",
      "metadata": {
        "id": "puSLScKGWXD9",
        "colab_type": "text"
      },
      "source": [
        "As we have trained our models, now we have to test our models that how accurate will they perform on the test data.\n",
        "\n",
        "So let us use **cross validation** to find the proper score of each model, also to ensure that the model is not overfitting or underfitting.\n",
        "\n",
        "\n",
        "\n",
        "*   If the cross validation score values for a performance measure (say accuracy) are not varying significantly for various folds (k-folds) then we can say that the model is not overfitting.\n",
        "*   If the cross validation score values for a performance measure (say accuracy) are not very low for various folds (k-folds) then we can say that the model is not underfitting.\n",
        "\n",
        "We will perform **k-fold cross-validation**\n",
        "\n",
        "In this we will randomly split the training set into 3 distinct subsets called **folds** (cv=3). Since cross validation is a computing intensive and time consuming process, we are limiting 'cv' (no. of folds) to 3 instead of normally 10 folds.\n",
        "\n",
        "Then will train and evaluate each model 3 times by picking a different fold for evaluation every time and training on the other 2 folds.\n",
        "\n",
        "The result will be an array containing the 3 evaluation scores for each of the measures .\n",
        "\n",
        "We will use **cross_val_score()** function to calculate the accuracy.\n",
        "\n",
        "But accuracy is generally not the preferred performance measure for classifiers, especially when you are dealing with skewed datasets.\n",
        "Since our current training dataset is not skewed, but the future test dataset  on which the model runs can be skewed, hence, considering we may get skewed dataset in future, let us calculate Precision, Recall and F1 score also for the models.\n",
        "\n",
        "And will use **cross_val_predict()** function to create confusion matrix to calculate Precision, Recall and F1 score.\n",
        "\n",
        "\n",
        "\n",
        "\n"
      ]
    },
    {
      "cell_type": "code",
      "metadata": {
        "id": "lEy3jyWQFBqm",
        "colab_type": "code",
        "colab": {}
      },
      "source": [
        "# function to calculate mean and standard deviation of each score (e.g. accuracy, precision, etc.)\n",
        "def display_scores(scores):\n",
        "    print(\"Scores:\", scores)\n",
        "    print(\"Mean:\", scores.mean())\n",
        "    print(\"Standard deviation:\", scores.std())"
      ],
      "execution_count": 14,
      "outputs": []
    },
    {
      "cell_type": "markdown",
      "metadata": {
        "id": "Mr9DqtD7bUup",
        "colab_type": "text"
      },
      "source": [
        "Let us calculate accuracy, precision, recall, F1 score for **SVC**"
      ]
    },
    {
      "cell_type": "code",
      "metadata": {
        "id": "1OYZGiPQdD9u",
        "colab_type": "code",
        "colab": {
          "base_uri": "https://localhost:8080/",
          "height": 302
        },
        "outputId": "bcb55bc0-391a-42fc-d9eb-dd8ca5c622c7"
      },
      "source": [
        "svc_scores = cross_val_score(svc, scaledX, train_labels, cv=3, scoring=\"accuracy\") \n",
        "display_scores(svc_scores)\n",
        "svc_accuracy = svc_scores.mean()\n",
        "\n",
        "train_labels_predict_svc = cross_val_predict(svc, scaledX, train_labels, cv=3)\n",
        "svc_cm = confusion_matrix(train_labels, train_labels_predict_svc)\n",
        "svc_precision = precision_score(train_labels, train_labels_predict_svc, average='weighted')\n",
        "svc_recall = recall_score(train_labels, train_labels_predict_svc, average='weighted')\n",
        "svc_f1_score = f1_score(train_labels, train_labels_predict_svc, average='weighted')\n",
        "print(\"Confusion Matrix: \\n\", svc_cm)\n",
        "print('\\nPlotting confusion matrix')\n",
        "plt.figure()\n",
        "plot_confusion_matrix(svc_cm, class_names)\n",
        "plt.show()\n",
        "print(\"SVC CV Accuracy: \", svc_accuracy)\n",
        "print(\"SVC CV Precision: \", svc_precision)\n",
        "print(\"SVC CV Recall: \", svc_precision)\n",
        "print(\"SVC CV F1 Score: \", svc_f1_score)"
      ],
      "execution_count": null,
      "outputs": [
        {
          "output_type": "stream",
          "text": [
            "Scores: [0.85385 0.85425 0.8513 ]\n",
            "Mean: 0.8531333333333334\n",
            "Standard deviation: 0.001306607141501321\n",
            "Confusion Matrix: [[4995   28   99  236   19    5  561    0   57    0]\n",
            " [  52 5798   15  112    6    0   14    0    3    0]\n",
            " [ 158   18 4577   72  675    1  470    0   27    2]\n",
            " [ 282  111   76 5192  172    0  152    0   15    0]\n",
            " [  19   16  607  234 4641    0  462    0   21    0]\n",
            " [   4    2    1    4    0 5656    0  228   16   89]\n",
            " [ 940   21  701  201  537    0 3514    0   85    1]\n",
            " [   0    0    0    0    0  220    0 5583    4  193]\n",
            " [  82    6   65   57   29   45  118   25 5570    3]\n",
            " [   1    1    1    0    0  100    1  227    7 5662]]\n",
            "SVC CV Accuracy:  0.8531333333333334\n",
            "SVC CV Precision:  0.8523840215475816\n",
            "SVC CV Recall:  0.8523840215475816\n",
            "SVC CV F1 Score:  0.8523177764040923\n"
          ],
          "name": "stdout"
        }
      ]
    },
    {
      "cell_type": "markdown",
      "metadata": {
        "id": "jJ69dj5Dxwt4",
        "colab_type": "text"
      },
      "source": [
        "Let us calculate accuracy, precision, recall, F1 score for **XGBClassifier**"
      ]
    },
    {
      "cell_type": "code",
      "metadata": {
        "id": "e9WbcnT6xvyq",
        "colab_type": "code",
        "colab": {
          "base_uri": "https://localhost:8080/",
          "height": 647
        },
        "outputId": "442d6cf1-f4e4-493b-a9e0-a128d82c7593"
      },
      "source": [
        "xgb_scores = cross_val_score(xgb_clf, scaledX, train_labels, cv=3, scoring=\"accuracy\") \n",
        "display_scores(xgb_scores)\n",
        "xgb_accuracy = xgb_scores.mean() \n",
        "\n",
        "train_labels_predict_xgb = cross_val_predict(xgb_clf, scaledX, train_labels, cv=3)\n",
        "xgb_cm = confusion_matrix(train_labels, train_labels_predict_xgb)\n",
        "xgb_precision = precision_score(train_labels, train_labels_predict_xgb, average='weighted')\n",
        "xgb_recall = recall_score(train_labels, train_labels_predict_xgb, average='weighted')\n",
        "xgb_f1_score = f1_score(train_labels, train_labels_predict_xgb, average='weighted')\n",
        "print(\"Confusion Matrix: \\n\", xgb_cm)\n",
        "print('\\nPlotting confusion matrix')\n",
        "plt.figure()\n",
        "plot_confusion_matrix(xgb_cm, class_names)\n",
        "plt.show()\n",
        "print(\"XGBoost Classifier CV Accuracy: \", xgb_accuracy)\n",
        "print(\"XGBoost Classifier CV Precision: \", xgb_precision)\n",
        "print(\"XGBoost Classifier CV Recall: \", xgb_precision)\n",
        "print(\"XGBoost Classifier CV F1 Score: \", xgb_f1_score)"
      ],
      "execution_count": 18,
      "outputs": [
        {
          "output_type": "stream",
          "text": [
            "Scores: [0.89385 0.89115 0.8889 ]\n",
            "Mean: 0.8913000000000001\n",
            "Standard deviation: 0.0020236106344848114\n",
            "Confusion Matrix: \n",
            " [[5226    7   68  169   23    7  456    0   44    0]\n",
            " [  13 5847   11   97   12    0   13    0    7    0]\n",
            " [  71    6 4995   51  543    1  305    0   28    0]\n",
            " [ 132   23   37 5513  162    2  119    0   12    0]\n",
            " [   9   10  429  209 5025    0  298    0   20    0]\n",
            " [   1    2    0    1    0 5769    2  152   17   56]\n",
            " [ 909    7  592  151  452    2 3802    0   85    0]\n",
            " [   0    0    0    0    0   70    0 5724   13  193]\n",
            " [  10    3   17   19   26   14   60   11 5834    6]\n",
            " [   0    1    2    2    1   53    0  191    7 5743]]\n",
            "\n",
            "Plotting confusion matrix\n"
          ],
          "name": "stdout"
        },
        {
          "output_type": "display_data",
          "data": {
            "image/png": "[encoded data removed]",
            "text/plain": [
              "<Figure size 432x288 with 2 Axes>"
            ]
          },
          "metadata": {
            "tags": [],
            "needs_background": "light"
          }
        },
        {
          "output_type": "stream",
          "text": [
            "XGBoost Classifier CV Accuracy:  0.8913000000000001\n",
            "XGBoost Classifier CV Precision:  0.8902388749003232\n",
            "XGBoost Classifier CV Recall:  0.8902388749003232\n",
            "XGBoost Classifier CV F1 Score:  0.8900969060759671\n"
          ],
          "name": "stdout"
        }
      ]
    },
    {
      "cell_type": "code",
      "metadata": {
        "id": "mAMRvyMbW_mC",
        "colab_type": "code",
        "colab": {
          "base_uri": "https://localhost:8080/",
          "height": 265
        },
        "outputId": "611f06da-83f0-4a21-954e-0629227cb18a"
      },
      "source": [
        "plt.plot(train_labels, train_labels_predict_xgb)\n",
        "plt.show()"
      ],
      "execution_count": null,
      "outputs": [
        {
          "output_type": "display_data",
          "data": {
            "image/png": "[encoded data removed]",
            "text/plain": [
              "<Figure size 432x288 with 1 Axes>"
            ]
          },
          "metadata": {
            "tags": [],
            "needs_background": "light"
          }
        }
      ]
    },
    {
      "cell_type": "markdown",
      "metadata": {
        "id": "OMEAq9Wq682h",
        "colab_type": "text"
      },
      "source": [
        "Let us calculate accuracy, precision, recall, F1 score for **DecisionTreeClassifier**"
      ]
    },
    {
      "cell_type": "code",
      "metadata": {
        "id": "MEX8udvi77P9",
        "colab_type": "code",
        "colab": {
          "base_uri": "https://localhost:8080/",
          "height": 647
        },
        "outputId": "d1c19837-d208-4235-ba1e-3a0c75251c8e"
      },
      "source": [
        "dec_scores = cross_val_score(dec_tree_clf, scaledX, train_labels, cv=3, scoring=\"accuracy\") \n",
        "display_scores(dec_scores)\n",
        "dec_accuracy = dec_scores.mean()\n",
        "\n",
        "train_labels_predict_dec = cross_val_predict(dec_tree_clf, scaledX, train_labels, cv=3)\n",
        "dec_cm = confusion_matrix(train_labels, train_labels_predict_dec)\n",
        "dec_precision = precision_score(train_labels, train_labels_predict_dec, average='weighted')\n",
        "dec_recall = recall_score(train_labels, train_labels_predict_dec, average='weighted')\n",
        "dec_f1_score = f1_score(train_labels, train_labels_predict_dec, average='weighted')\n",
        "print(\"Confusion Matrix: \\n\", dec_cm)\n",
        "print('\\nPlotting confusion matrix')\n",
        "plt.figure()\n",
        "plot_confusion_matrix(dec_cm, class_names)\n",
        "plt.show()\n",
        "print(\"Decision Tree Classification CV Accuracy: \", dec_accuracy)\n",
        "print(\"Decision Tree Classification CV Precision: \", dec_precision)\n",
        "print(\"Decision Tree Classification CV Recall: \", dec_precision)\n",
        "print(\"Decision Tree Classification CV F1 Score: \", dec_f1_score)"
      ],
      "execution_count": null,
      "outputs": [
        {
          "output_type": "stream",
          "text": [
            "Scores: [0.7954  0.78815 0.7887 ]\n",
            "Mean: 0.7907500000000001\n",
            "Standard deviation: 0.0032957042747592943\n",
            "Confusion Matrix: \n",
            " [[4440   49  138  288   85   10  915    4   58   13]\n",
            " [  53 5667   25  176   24   11   27    0   15    2]\n",
            " [ 142   15 4020  108  858    9  769    0   70    9]\n",
            " [ 283  196  106 4745  329   14  261    2   58    6]\n",
            " [  68   28  874  324 3972    4  668    0   55    7]\n",
            " [  12   14    9   13    3 5302   19  356   93  179]\n",
            " [ 893   39  758  227  676   14 3258    2  123   10]\n",
            " [   3    0    0    0    1  368    0 5196   29  403]\n",
            " [  65   18   83   46   60   73  143   35 5453   24]\n",
            " [   3    4    5    3    3  145   11  432   17 5377]]\n",
            "\n",
            "Plotting confusion matrix\n"
          ],
          "name": "stdout"
        },
        {
          "output_type": "display_data",
          "data": {
            "image/png": "[encoded data removed]",
            "text/plain": [
              "<Figure size 432x288 with 2 Axes>"
            ]
          },
          "metadata": {
            "tags": [],
            "needs_background": "light"
          }
        },
        {
          "output_type": "stream",
          "text": [
            "Decision Tree Classification CV Accuracy:  0.7907500000000001\n",
            "Decision Tree Classification CV Precision:  0.7908288762503403\n",
            "Decision Tree Classification CV Recall:  0.7908288762503403\n",
            "Decision Tree Classification CV F1 Score:  0.7906552115815807\n"
          ],
          "name": "stdout"
        }
      ]
    },
    {
      "cell_type": "markdown",
      "metadata": {
        "id": "ACacQjp28BFH",
        "colab_type": "text"
      },
      "source": [
        "Let us calculate accuracy, precision, recall, F1 score for **RandomForestClassifier**"
      ]
    },
    {
      "cell_type": "code",
      "metadata": {
        "id": "eL_u4acB8Hgq",
        "colab_type": "code",
        "colab": {
          "base_uri": "https://localhost:8080/",
          "height": 647
        },
        "outputId": "77206722-f47b-4757-a4ed-8d34e2e6b245"
      },
      "source": [
        "rnd_scores = cross_val_score(rnd_clf, scaledX, train_labels, cv=3, scoring=\"accuracy\") \n",
        "display_scores(rnd_scores)\n",
        "rnd_accuracy = rnd_scores.mean()\n",
        "\n",
        "train_labels_predict_rnd = cross_val_predict(rnd_clf, scaledX, train_labels, cv=3)\n",
        "rnd_cm = confusion_matrix(train_labels, train_labels_predict_rnd)\n",
        "rnd_precision = precision_score(train_labels, train_labels_predict_rnd, average='weighted')\n",
        "rnd_recall = recall_score(train_labels, train_labels_predict_rnd, average='weighted')\n",
        "rnd_f1_score = f1_score(train_labels, train_labels_predict_rnd, average='weighted')\n",
        "print(\"Confusion Matrix: \\n\", rnd_cm)\n",
        "print('\\nPlotting confusion matrix')\n",
        "plt.figure()\n",
        "plot_confusion_matrix(rnd_cm, class_names)\n",
        "plt.show()\n",
        "print(\"Random Forest Classification CV Accuracy: \", rnd_accuracy)\n",
        "print(\"Random Forest Classification CV Precision: \", rnd_precision)\n",
        "print(\"Random Forest Classification CV Recall: \", rnd_precision)\n",
        "print(\"Random Forest Classification CV F1 Score: \", rnd_f1_score)"
      ],
      "execution_count": null,
      "outputs": [
        {
          "output_type": "stream",
          "text": [
            "Scores: [0.8776  0.8797  0.87935]\n",
            "Mean: 0.8788833333333333\n",
            "Standard deviation: 0.000918634251968028\n",
            "Confusion Matrix: \n",
            " [[5171    4   76  193   23    6  476    0   51    0]\n",
            " [  12 5782   27  134    8    1   33    0    3    0]\n",
            " [  39    2 4908   62  673    1  278    0   37    0]\n",
            " [ 122   19   45 5509  175    0  118    0   12    0]\n",
            " [   9    9  505  245 4950    1  263    0   18    0]\n",
            " [   0    1    0    3    0 5754    0  166   20   56]\n",
            " [ 970    7  728  140  557    2 3500    0   96    0]\n",
            " [   0    0    0    0    0  107    0 5630    9  254]\n",
            " [   8    5   23   19   27   18   65   15 5815    5]\n",
            " [   0    0    1    1    1   69    1  223    8 5696]]\n",
            "\n",
            "Plotting confusion matrix\n"
          ],
          "name": "stdout"
        },
        {
          "output_type": "display_data",
          "data": {
            "image/png": "[encoded data removed]",
            "text/plain": [
              "<Figure size 432x288 with 2 Axes>"
            ]
          },
          "metadata": {
            "tags": [],
            "needs_background": "light"
          }
        },
        {
          "output_type": "stream",
          "text": [
            "Random Forest Classification CV Accuracy:  0.8788833333333333\n",
            "Random Forest Classification CV Precision:  0.8775237424704583\n",
            "Random Forest Classification CV Recall:  0.8775237424704583\n",
            "Random Forest Classification CV F1 Score:  0.8768518349972128\n"
          ],
          "name": "stdout"
        }
      ]
    },
    {
      "cell_type": "markdown",
      "metadata": {
        "id": "84tH9bP0DY1B",
        "colab_type": "text"
      },
      "source": [
        "Let us calculate accuracy, precision, recall, F1 score for **Logistic Regression**"
      ]
    },
    {
      "cell_type": "code",
      "metadata": {
        "id": "a2Ja4HUmDbfp",
        "colab_type": "code",
        "colab": {
          "base_uri": "https://localhost:8080/",
          "height": 647
        },
        "outputId": "f886741b-ad5d-4474-f695-7adbfad5a629"
      },
      "source": [
        "log_scores = cross_val_score(log_clf, scaledX, train_labels, cv=3, scoring=\"accuracy\") \n",
        "display_scores(log_scores)\n",
        "log_accuracy = log_scores.mean()\n",
        "\n",
        "train_labels_predict_log = cross_val_predict(log_clf, scaledX, train_labels, cv=3)\n",
        "log_cm = confusion_matrix(train_labels, train_labels_predict_log)\n",
        "log_precision = precision_score(train_labels, train_labels_predict_log, average='weighted')\n",
        "log_recall = recall_score(train_labels, train_labels_predict_log, average='weighted')\n",
        "log_f1_score = f1_score(train_labels, train_labels_predict_log, average='weighted')\n",
        "print(\"Confusion Matrix: \\n\", log_cm)\n",
        "print('\\nPlotting confusion matrix')\n",
        "plt.figure()\n",
        "plot_confusion_matrix(log_cm, class_names)\n",
        "plt.show()\n",
        "print(\"Logistic Regression CV Accuracy: \", log_accuracy)\n",
        "print(\"Logistic Regression CV Precision: \", log_precision)\n",
        "print(\"Logistic Regression CV Recall: \", log_precision)\n",
        "print(\"Logistic Regression CV F1 Score: \", log_f1_score)"
      ],
      "execution_count": null,
      "outputs": [
        {
          "output_type": "stream",
          "text": [
            "Scores: [0.85475 0.8542  0.8535 ]\n",
            "Mean: 0.8541500000000001\n",
            "Standard deviation: 0.0005115336417740806\n",
            "Confusion Matrix: \n",
            " [[4970   25  119  256   23    7  524    2   73    1]\n",
            " [  19 5777   32  130   18    0   20    2    2    0]\n",
            " [  99   21 4546   67  691    4  529    0   43    0]\n",
            " [ 217   68   73 5231  195    0  195    2   19    0]\n",
            " [   9   18  556  217 4668    1  494    0   37    0]\n",
            " [   4    1    1    4    0 5598    2  249   41  100]\n",
            " [ 844   21  719  199  570    0 3547    0   99    1]\n",
            " [   0    0    1    0    0  221    0 5577   15  186]\n",
            " [  28    8   43   50   30   30  117   31 5657    6]\n",
            " [   0    1    0    1    0   97    0  215    8 5678]]\n",
            "\n",
            "Plotting confusion matrix\n"
          ],
          "name": "stdout"
        },
        {
          "output_type": "display_data",
          "data": {
            "image/png": "[encoded data removed]",
            "text/plain": [
              "<Figure size 432x288 with 2 Axes>"
            ]
          },
          "metadata": {
            "tags": [],
            "needs_background": "light"
          }
        },
        {
          "output_type": "stream",
          "text": [
            "Logistic Regression CV Accuracy:  0.8541500000000001\n",
            "Logistic Regression CV Precision:  0.8530485007624243\n",
            "Logistic Regression CV Recall:  0.8530485007624243\n",
            "Logistic Regression CV F1 Score:  0.8533777917352612\n"
          ],
          "name": "stdout"
        }
      ]
    },
    {
      "cell_type": "markdown",
      "metadata": {
        "id": "qYvXGkp98Ljf",
        "colab_type": "text"
      },
      "source": [
        "Let us calculate accuracy, precision, recall, F1 score for **Ensemble with soft voting**"
      ]
    },
    {
      "cell_type": "code",
      "metadata": {
        "id": "WWtli_h28RFy",
        "colab_type": "code",
        "colab": {
          "base_uri": "https://localhost:8080/",
          "height": 647
        },
        "outputId": "018b60f4-a61e-458c-ad6d-dc7367ed2434"
      },
      "source": [
        "ens_scores = cross_val_score(voting_clf, scaledX, train_labels, cv=3, scoring=\"accuracy\") \n",
        "display_scores(ens_scores)\n",
        "ens_accuracy = ens_scores.mean()\n",
        "\n",
        "train_labels_predict_ens = cross_val_predict(voting_clf, scaledX, train_labels, cv=3)\n",
        "ens_cm = confusion_matrix(train_labels, train_labels_predict_ens)\n",
        "ens_precision = precision_score(train_labels, train_labels_predict_ens, average='weighted')\n",
        "ens_recall = recall_score(train_labels, train_labels_predict_ens, average='weighted')\n",
        "ens_f1_score = f1_score(train_labels, train_labels_predict_ens, average='weighted')\n",
        "print(\"Confusion Matrix: \\n\", ens_cm)\n",
        "print('\\nPlotting confusion matrix')\n",
        "plt.figure()\n",
        "plot_confusion_matrix(ens_cm, class_names)\n",
        "plt.show()\n",
        "print(\"Ensembles with soft voting CV Accuracy: \", ens_accuracy)\n",
        "print(\"Ensembles with soft voting CV Precision: \", ens_precision)\n",
        "print(\"Ensembles with soft voting CV Recall: \", ens_precision)\n",
        "print(\"Ensembles with soft voting CV F1 Score: \", ens_f1_score)"
      ],
      "execution_count": null,
      "outputs": [
        {
          "output_type": "stream",
          "text": [
            "Scores: [0.8764 0.8739 0.8721]\n",
            "Mean: 0.8741333333333333\n",
            "Standard deviation: 0.001763204154058412\n",
            "Confusion Matrix: \n",
            " [[5122   14   90  208   17    6  476    2   64    1]\n",
            " [  17 5796   26  125   15    0   17    1    3    0]\n",
            " [  77   12 4741   56  674    2  397    0   41    0]\n",
            " [ 152   40   55 5402  193    0  141    1   16    0]\n",
            " [   7    9  466  221 4941    1  330    0   25    0]\n",
            " [   2    2    0    2    0 5715    0  182   25   72]\n",
            " [ 909   20  685  160  528    0 3598    0   99    1]\n",
            " [   0    0    1    0    0  142    0 5659   11  187]\n",
            " [  12    8   28   33   19   20   97   26 5754    3]\n",
            " [   1    1    0    1    0   68    0  198    7 5724]]\n",
            "\n",
            "Plotting confusion matrix\n"
          ],
          "name": "stdout"
        },
        {
          "output_type": "display_data",
          "data": {
            "image/png": "[encoded data removed]",
            "text/plain": [
              "<Figure size 432x288 with 2 Axes>"
            ]
          },
          "metadata": {
            "tags": [],
            "needs_background": "light"
          }
        },
        {
          "output_type": "stream",
          "text": [
            "Ensembles with soft voting CV Accuracy:  0.8741333333333333\n",
            "Ensembles with soft voting CV Precision:  0.8728893932084574\n",
            "Ensembles with soft voting CV Recall:  0.8728893932084574\n",
            "Ensembles with soft voting CV F1 Score:  0.8728967531039905\n"
          ],
          "name": "stdout"
        }
      ]
    },
    {
      "cell_type": "markdown",
      "metadata": {
        "id": "leHpmJl5uE8E",
        "colab_type": "text"
      },
      "source": [
        "# Verify predictions on test data"
      ]
    },
    {
      "cell_type": "markdown",
      "metadata": {
        "id": "4cb5aaVUuVHU",
        "colab_type": "text"
      },
      "source": [
        "Since we have finalized our model i.e XGBoostClassifier. Now lets find its scores and then will do predictions on test data using XGBoostClassifier model.\n"
      ]
    },
    {
      "cell_type": "code",
      "metadata": {
        "id": "q3StMxhXuIpa",
        "colab_type": "code",
        "colab": {}
      },
      "source": [
        "test_labels_predict_xgb = xgb_clf.predict(scaledY)"
      ],
      "execution_count": null,
      "outputs": []
    },
    {
      "cell_type": "code",
      "metadata": {
        "id": "jScMTNZULyJ8",
        "colab_type": "code",
        "colab": {
          "base_uri": "https://localhost:8080/",
          "height": 34
        },
        "outputId": "781606e8-75fe-4ccf-8c64-f2eab207a377"
      },
      "source": [
        "test_labels[0]"
      ],
      "execution_count": null,
      "outputs": [
        {
          "output_type": "execute_result",
          "data": {
            "text/plain": [
              "0"
            ]
          },
          "metadata": {
            "tags": []
          },
          "execution_count": 29
        }
      ]
    },
    {
      "cell_type": "code",
      "metadata": {
        "id": "Wm79xUe6L2Gb",
        "colab_type": "code",
        "colab": {
          "base_uri": "https://localhost:8080/",
          "height": 34
        },
        "outputId": "40494708-7ee7-4483-db1c-8e3baa75974d"
      },
      "source": [
        "test_labels_predict_xgb[0]"
      ],
      "execution_count": null,
      "outputs": [
        {
          "output_type": "execute_result",
          "data": {
            "text/plain": [
              "0"
            ]
          },
          "metadata": {
            "tags": []
          },
          "execution_count": 30
        }
      ]
    },
    {
      "cell_type": "code",
      "metadata": {
        "id": "oa-TL7X7L7Hu",
        "colab_type": "code",
        "colab": {
          "base_uri": "https://localhost:8080/",
          "height": 248
        },
        "outputId": "f70f4459-d052-43da-a785-f0f631d0f709"
      },
      "source": [
        "showImage(flattened_test_images[0])"
      ],
      "execution_count": null,
      "outputs": [
        {
          "output_type": "display_data",
          "data": {
            "image/png": "[encoded data removed]",
            "text/plain": [
              "<Figure size 432x288 with 1 Axes>"
            ]
          },
          "metadata": {
            "tags": [],
            "needs_background": "light"
          }
        }
      ]
    },
    {
      "cell_type": "code",
      "metadata": {
        "id": "R4nWqu9dJ3GS",
        "colab_type": "code",
        "colab": {
          "base_uri": "https://localhost:8080/",
          "height": 84
        },
        "outputId": "5f4003e3-38a6-4e13-e5a3-128ea3894ea0"
      },
      "source": [
        "xgb_accuracy = accuracy_score(test_labels, test_labels_predict_xgb)\n",
        "xgb_precision = precision_score(test_labels, test_labels_predict_xgb, average='weighted')\n",
        "xgb_recall = recall_score(test_labels, test_labels_predict_xgb, average='weighted')\n",
        "xgb_f1_score = f1_score(test_labels, test_labels_predict_xgb, average='weighted')\n",
        "\n",
        "print(\"XGBoost Classifier Accuracy: \", xgb_accuracy)\n",
        "print(\"XGBoost Classifier Precision: \", xgb_precision)\n",
        "print(\"XGBoost Classifier Recall: \", xgb_precision)\n",
        "print(\"XGBoost Classifier F1 Score: \", xgb_f1_score)"
      ],
      "execution_count": null,
      "outputs": [
        {
          "output_type": "stream",
          "text": [
            "XGBoost Classifier Accuracy:  0.8997\n",
            "XGBoost Classifier Precision:  0.8986657164662324\n",
            "XGBoost Classifier Recall:  0.8986657164662324\n",
            "XGBoost Classifier F1 Score:  0.8983260237174642\n"
          ],
          "name": "stdout"
        }
      ]
    },
    {
      "cell_type": "markdown",
      "metadata": {
        "id": "l9gXHTpJdXjk",
        "colab_type": "text"
      },
      "source": [
        "# Conclusion"
      ]
    },
    {
      "cell_type": "markdown",
      "metadata": {
        "id": "yNmX_zF2dabD",
        "colab_type": "text"
      },
      "source": [
        "There is no difference between scores of test dataset and training dataset , hence, the conclusion is that our final model (XGBoost) is good enough, and it doesn’t have any overfitting or underfitting.\n",
        "\n",
        "Although XGBoost (with n_estimators=100 and max_depth = 50) is good enough, there may be a chance to improve this model further, by say, increasing the number of estimators and trying out some more hyperparameters. \n",
        "\n",
        "As we see above, Ensemble also has given good results, we can try Ensemble with some more models and with some more hyperparameters to improve the results further. \n"
      ]
    }
  ]
}